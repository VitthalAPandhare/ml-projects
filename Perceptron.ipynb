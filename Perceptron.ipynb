{
  "nbformat": 4,
  "nbformat_minor": 0,
  "metadata": {
    "colab": {
      "name": "Perceptron.ipynb",
      "provenance": [],
      "collapsed_sections": [],
      "include_colab_link": true
    },
    "kernelspec": {
      "name": "python3",
      "display_name": "Python 3"
    }
  },
  "cells": [
    {
      "cell_type": "markdown",
      "metadata": {
        "id": "view-in-github",
        "colab_type": "text"
      },
      "source": [
        "<a href=\"https://colab.research.google.com/github/VitthalAPandhare/ml-projects/blob/master/Perceptron.ipynb\" target=\"_parent\"><img src=\"https://colab.research.google.com/assets/colab-badge.svg\" alt=\"Open In Colab\"/></a>"
      ]
    },
    {
      "cell_type": "code",
      "metadata": {
        "id": "ulDFg3jbgUSd",
        "colab_type": "code",
        "colab": {}
      },
      "source": [
        "import numpy as np\n",
        "import random\n",
        "import matplotlib.pyplot as plt"
      ],
      "execution_count": 0,
      "outputs": []
    },
    {
      "cell_type": "code",
      "metadata": {
        "id": "uvZJGySsoF7r",
        "colab_type": "code",
        "colab": {
          "base_uri": "https://localhost:8080/",
          "height": 34
        },
        "outputId": "531eed99-66c3-4e94-be0f-d2610fd2e1e9"
      },
      "source": [
        "np.random.rand()"
      ],
      "execution_count": 106,
      "outputs": [
        {
          "output_type": "execute_result",
          "data": {
            "text/plain": [
              "0.22828024869085384"
            ]
          },
          "metadata": {
            "tags": []
          },
          "execution_count": 106
        }
      ]
    },
    {
      "cell_type": "code",
      "metadata": {
        "id": "LtOHqtzynhXg",
        "colab_type": "code",
        "colab": {
          "base_uri": "https://localhost:8080/",
          "height": 284
        },
        "outputId": "f7dedb2d-0854-4dd3-aef4-0a3e070b08b8"
      },
      "source": [
        "x1 = 2*np.random.randn(150) + 13\n",
        "y1 = 2*np.random.randn(150) + 4\n",
        "x2 = 2*np.random.randn(150) + 4\n",
        "y2 = 2*np.random.randn(150) + 9\n",
        "x = np.append(x1,x2)\n",
        "y = np.append(y1,y2)\n",
        "\n",
        "plt.scatter(x1,y1,c = 'red')\n",
        "plt.scatter(x2,y2,c  = 'blue')\n",
        "x_ = range(0,20)\n",
        "y_ = [0.7*i + 1 for i in x_]\n",
        "plt.plot(x_,y_,c ='orange')\n",
        "plt.xlabel(\"Hair_Length\")\n",
        "plt.ylabel(\"Height\")\n",
        "\n",
        "\n",
        "plt.show()"
      ],
      "execution_count": 117,
      "outputs": [
        {
          "output_type": "display_data",
          "data": {
            "image/png": "[encoded data removed]",
            "text/plain": [
              "<Figure size 432x288 with 1 Axes>"
            ]
          },
          "metadata": {
            "tags": []
          }
        }
      ]
    },
    {
      "cell_type": "code",
      "metadata": {
        "id": "kD9I1jCjubVA",
        "colab_type": "code",
        "colab": {
          "base_uri": "https://localhost:8080/",
          "height": 204
        },
        "outputId": "30ea9d39-1711-47be-a51c-f56f9b40ef9e"
      },
      "source": [
        "import pandas as pd\n",
        "df = pd.DataFrame()\n",
        "df[\"Hair_Length\"] = x \n",
        "df[\"Height\"] = y\n",
        "df.head()"
      ],
      "execution_count": 118,
      "outputs": [
        {
          "output_type": "execute_result",
          "data": {
            "text/html": [
              "<div>\n",
              "<style scoped>\n",
              "    .dataframe tbody tr th:only-of-type {\n",
              "        vertical-align: middle;\n",
              "    }\n",
              "\n",
              "    .dataframe tbody tr th {\n",
              "        vertical-align: top;\n",
              "    }\n",
              "\n",
              "    .dataframe thead th {\n",
              "        text-align: right;\n",
              "    }\n",
              "</style>\n",
              "<table border=\"1\" class=\"dataframe\">\n",
              "  <thead>\n",
              "    <tr style=\"text-align: right;\">\n",
              "      <th></th>\n",
              "      <th>Hair_Length</th>\n",
              "      <th>Height</th>\n",
              "    </tr>\n",
              "  </thead>\n",
              "  <tbody>\n",
              "    <tr>\n",
              "      <th>0</th>\n",
              "      <td>12.825544</td>\n",
              "      <td>2.718640</td>\n",
              "    </tr>\n",
              "    <tr>\n",
              "      <th>1</th>\n",
              "      <td>12.765578</td>\n",
              "      <td>2.989978</td>\n",
              "    </tr>\n",
              "    <tr>\n",
              "      <th>2</th>\n",
              "      <td>15.412700</td>\n",
              "      <td>4.553591</td>\n",
              "    </tr>\n",
              "    <tr>\n",
              "      <th>3</th>\n",
              "      <td>12.724529</td>\n",
              "      <td>3.740349</td>\n",
              "    </tr>\n",
              "    <tr>\n",
              "      <th>4</th>\n",
              "      <td>10.848169</td>\n",
              "      <td>3.790808</td>\n",
              "    </tr>\n",
              "  </tbody>\n",
              "</table>\n",
              "</div>"
            ],
            "text/plain": [
              "   Hair_Length    Height\n",
              "0    12.825544  2.718640\n",
              "1    12.765578  2.989978\n",
              "2    15.412700  4.553591\n",
              "3    12.724529  3.740349\n",
              "4    10.848169  3.790808"
            ]
          },
          "metadata": {
            "tags": []
          },
          "execution_count": 118
        }
      ]
    },
    {
      "cell_type": "code",
      "metadata": {
        "id": "Bx_STVezyY8J",
        "colab_type": "code",
        "colab": {}
      },
      "source": [
        "df[\"gender\"]=list(map(lambda x : 1 if x[1] - 0.7*x[0] - 1 > -1 else 0, df.values ))"
      ],
      "execution_count": 0,
      "outputs": []
    },
    {
      "cell_type": "code",
      "metadata": {
        "id": "a-j-LVsd67tU",
        "colab_type": "code",
        "colab": {
          "base_uri": "https://localhost:8080/",
          "height": 204
        },
        "outputId": "36e7df38-0bbd-427a-f0d5-98bee9d0fa32"
      },
      "source": [
        "df.head()"
      ],
      "execution_count": 121,
      "outputs": [
        {
          "output_type": "execute_result",
          "data": {
            "text/html": [
              "<div>\n",
              "<style scoped>\n",
              "    .dataframe tbody tr th:only-of-type {\n",
              "        vertical-align: middle;\n",
              "    }\n",
              "\n",
              "    .dataframe tbody tr th {\n",
              "        vertical-align: top;\n",
              "    }\n",
              "\n",
              "    .dataframe thead th {\n",
              "        text-align: right;\n",
              "    }\n",
              "</style>\n",
              "<table border=\"1\" class=\"dataframe\">\n",
              "  <thead>\n",
              "    <tr style=\"text-align: right;\">\n",
              "      <th></th>\n",
              "      <th>Hair_Length</th>\n",
              "      <th>Height</th>\n",
              "      <th>gender</th>\n",
              "    </tr>\n",
              "  </thead>\n",
              "  <tbody>\n",
              "    <tr>\n",
              "      <th>0</th>\n",
              "      <td>12.825544</td>\n",
              "      <td>2.718640</td>\n",
              "      <td>0</td>\n",
              "    </tr>\n",
              "    <tr>\n",
              "      <th>1</th>\n",
              "      <td>12.765578</td>\n",
              "      <td>2.989978</td>\n",
              "      <td>0</td>\n",
              "    </tr>\n",
              "    <tr>\n",
              "      <th>2</th>\n",
              "      <td>15.412700</td>\n",
              "      <td>4.553591</td>\n",
              "      <td>0</td>\n",
              "    </tr>\n",
              "    <tr>\n",
              "      <th>3</th>\n",
              "      <td>12.724529</td>\n",
              "      <td>3.740349</td>\n",
              "      <td>0</td>\n",
              "    </tr>\n",
              "    <tr>\n",
              "      <th>4</th>\n",
              "      <td>10.848169</td>\n",
              "      <td>3.790808</td>\n",
              "      <td>0</td>\n",
              "    </tr>\n",
              "  </tbody>\n",
              "</table>\n",
              "</div>"
            ],
            "text/plain": [
              "   Hair_Length    Height  gender\n",
              "0    12.825544  2.718640       0\n",
              "1    12.765578  2.989978       0\n",
              "2    15.412700  4.553591       0\n",
              "3    12.724529  3.740349       0\n",
              "4    10.848169  3.790808       0"
            ]
          },
          "metadata": {
            "tags": []
          },
          "execution_count": 121
        }
      ]
    },
    {
      "cell_type": "code",
      "metadata": {
        "id": "APGhX-W26xi6",
        "colab_type": "code",
        "colab": {
          "base_uri": "https://localhost:8080/",
          "height": 34
        },
        "outputId": "c77dcb4b-f6de-4d69-f988-2c1ac202c826"
      },
      "source": [
        "[0.0 for i in range(len(df.values[0]))]"
      ],
      "execution_count": 122,
      "outputs": [
        {
          "output_type": "execute_result",
          "data": {
            "text/plain": [
              "[0.0, 0.0, 0.0]"
            ]
          },
          "metadata": {
            "tags": []
          },
          "execution_count": 122
        }
      ]
    },
    {
      "cell_type": "code",
      "metadata": {
        "id": "42MLZJB03KdL",
        "colab_type": "code",
        "colab": {}
      },
      "source": [
        "def activate(row, weights):\n",
        "\tactivation = weights[0]\n",
        "\tfor i in range(len(row)-1):\n",
        "\t\tactivation += weights[i + 1] * row[i]\n",
        "\treturn 1.0 if activation >= 0.0 else 0.0\n",
        "\n",
        "def get_weights(X, l_rate, n_epoch):\n",
        "\tweights = [0.0 for i in range(len(X[0]))]\n",
        "\tfor epoch in range(n_epoch):\n",
        "\t\tfor row in X:\n",
        "\t\t\tprediction = activate(row, weights)\n",
        "\t\t\terror = row[-1] - prediction\n",
        "\t\t\tweights[0] = weights[0] + l_rate * error\n",
        "\t\t\tfor i in range(len(row)-1):\n",
        "\t\t\t\tweights[i + 1] = weights[i + 1] + l_rate * error * row[i]\n",
        "\treturn weights\n",
        "\n",
        "def perceptron(X,l_rate, n_epoch):\n",
        "\tpredictions = list()\n",
        "\tweights = get_weights(X, l_rate, n_epoch)\n",
        "\tfor row in X:\n",
        "\t\tprediction = predict(row, weights)\n",
        "\t\tpredictions.append(prediction)\n",
        "\treturn((predictions,weights))"
      ],
      "execution_count": 0,
      "outputs": []
    },
    {
      "cell_type": "code",
      "metadata": {
        "id": "KFZ9sNR4746f",
        "colab_type": "code",
        "colab": {}
      },
      "source": [
        "prediction,weights = perceptron(df.values,0.05,1000)"
      ],
      "execution_count": 0,
      "outputs": []
    },
    {
      "cell_type": "code",
      "metadata": {
        "id": "Qlk0x3kx8Br_",
        "colab_type": "code",
        "colab": {}
      },
      "source": [
        "bias,X_W,Y_W = weights[0],weights[1],weights[2]"
      ],
      "execution_count": 0,
      "outputs": []
    },
    {
      "cell_type": "code",
      "metadata": {
        "id": "HY-dF_qk9w2k",
        "colab_type": "code",
        "colab": {
          "base_uri": "https://localhost:8080/",
          "height": 284
        },
        "outputId": "5dbb4338-f027-4d75-857f-9c0b74851a33"
      },
      "source": [
        "y_W= [-X_W/Y_W *i - bias/Y_W for i in x_]\n",
        "\n",
        "plt.scatter(x1,y1,c = 'red')\n",
        "plt.scatter(x2,y2,c  = 'blue')\n",
        "x_ = range(0,20)\n",
        "y_ = [0.7*i + 1 for i in x_]\n",
        "plt.plot(x_,y_W,c ='green')\n",
        "plt.plot(x_,y_,c ='orange')\n",
        "plt.xlabel(\"Hair_Length\")\n",
        "plt.ylabel(\"Height\")\n",
        "plt.show()"
      ],
      "execution_count": 137,
      "outputs": [
        {
          "output_type": "display_data",
          "data": {
            "image/png": "[encoded data removed]",
            "text/plain": [
              "<Figure size 432x288 with 1 Axes>"
            ]
          },
          "metadata": {
            "tags": []
          }
        }
      ]
    },
    {
      "cell_type": "code",
      "metadata": {
        "id": "w0cyn5I3_mFN",
        "colab_type": "code",
        "colab": {
          "base_uri": "https://localhost:8080/",
          "height": 34
        },
        "outputId": "60066b84-fb3d-422b-f267-00204ae39811"
      },
      "source": [
        "from sklearn.metrics import accuracy_score\n",
        "accuracy_score(df[\"gender\"].values, prediction)"
      ],
      "execution_count": 128,
      "outputs": [
        {
          "output_type": "execute_result",
          "data": {
            "text/plain": [
              "1.0"
            ]
          },
          "metadata": {
            "tags": []
          },
          "execution_count": 128
        }
      ]
    },
    {
      "cell_type": "code",
      "metadata": {
        "id": "dXOslk4egZ-9",
        "colab_type": "code",
        "colab": {}
      },
      "source": [
        ""
      ],
      "execution_count": 0,
      "outputs": []
    }
  ]
}