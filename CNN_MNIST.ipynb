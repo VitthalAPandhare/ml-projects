{
  "nbformat": 4,
  "nbformat_minor": 0,
  "metadata": {
    "colab": {
      "name": "CNN_MNIST.ipynb",
      "version": "0.3.2",
      "provenance": [],
      "collapsed_sections": []
    },
    "kernelspec": {
      "name": "python3",
      "display_name": "Python 3"
    },
    "accelerator": "GPU"
  },
  "cells": [
    {
      "cell_type": "code",
      "metadata": {
        "id": "H9EU0e8yzFOm",
        "colab_type": "code",
        "outputId": "0b83354c-a870-48bc-f310-1c861a9e043b",
        "colab": {
          "base_uri": "https://localhost:8080/",
          "height": 70
        }
      },
      "source": [
        "# Credits: https://github.com/keras-team/keras/blob/master/examples/mnist_cnn.py\n",
        "\n",
        "\n",
        "from __future__ import print_function\n",
        "import keras\n",
        "from keras.datasets import mnist\n",
        "from keras.models import Sequential\n",
        "from keras.layers import Dense, Dropout, Flatten\n",
        "from keras.layers import Conv2D, MaxPooling2D\n",
        "from keras import backend as K\n",
        "\n",
        "batch_size = 128\n",
        "num_classes = 10\n",
        "epochs = 12\n",
        "\n",
        "# input image dimensions\n",
        "img_rows, img_cols = 28, 28\n",
        "\n",
        "# the data, split between train and test sets\n",
        "(x_train, y_train), (x_test, y_test) = mnist.load_data()\n",
        "\n",
        "if K.image_data_format() == 'channels_first':\n",
        "    x_train = x_train.reshape(x_train.shape[0], 1, img_rows, img_cols)\n",
        "    x_test = x_test.reshape(x_test.shape[0], 1, img_rows, img_cols)\n",
        "    input_shape = (1, img_rows, img_cols)\n",
        "else:\n",
        "    x_train = x_train.reshape(x_train.shape[0], img_rows, img_cols, 1)\n",
        "    x_test = x_test.reshape(x_test.shape[0], img_rows, img_cols, 1)\n",
        "    input_shape = (img_rows, img_cols, 1)\n",
        "\n",
        "x_train = x_train.astype('float32')\n",
        "x_test = x_test.astype('float32')\n",
        "x_train /= 255\n",
        "x_test /= 255\n",
        "print('x_train shape:', x_train.shape)\n",
        "print(x_train.shape[0], 'train samples')\n",
        "print(x_test.shape[0], 'test samples')\n",
        "\n",
        "# convert class vectors to binary class matrices\n",
        "y_train = keras.utils.to_categorical(y_train, num_classes)\n",
        "y_test = keras.utils.to_categorical(y_test, num_classes)\n",
        "\n"
      ],
      "execution_count": 0,
      "outputs": [
        {
          "output_type": "stream",
          "text": [
            "x_train shape: (60000, 28, 28, 1)\n",
            "60000 train samples\n",
            "10000 test samples\n"
          ],
          "name": "stdout"
        }
      ]
    },
    {
      "cell_type": "code",
      "metadata": {
        "id": "npP-JpvsuZQJ",
        "colab_type": "code",
        "colab": {}
      },
      "source": [
        "def plt_dynamic(x, vy, ty, ax, colors=['b']):\n",
        "    ax.plot(x, vy, 'b', label=\"Validation Loss\")\n",
        "    ax.plot(x, ty, 'r', label=\"Train Loss\")\n",
        "    plt.legend()\n",
        "    plt.grid()\n",
        "    fig.canvas.draw()"
      ],
      "execution_count": 0,
      "outputs": []
    },
    {
      "cell_type": "code",
      "metadata": {
        "id": "IYtG658XuTiI",
        "colab_type": "code",
        "colab": {}
      },
      "source": [
        ""
      ],
      "execution_count": 0,
      "outputs": []
    },
    {
      "cell_type": "markdown",
      "metadata": {
        "id": "HUJHOIH7lOm0",
        "colab_type": "text"
      },
      "source": [
        "#4 conv Layer"
      ]
    },
    {
      "cell_type": "code",
      "metadata": {
        "id": "CtwzoDL3lNDO",
        "colab_type": "code",
        "colab": {}
      },
      "source": [
        "#4Conv"
      ],
      "execution_count": 0,
      "outputs": []
    },
    {
      "cell_type": "code",
      "metadata": {
        "id": "e5WZx5vyjGHv",
        "colab_type": "code",
        "outputId": "b1ab2077-6161-4a40-855b-f00343353fdb",
        "colab": {
          "base_uri": "https://localhost:8080/",
          "height": 456
        }
      },
      "source": [
        "model = Sequential()\n",
        "model.add(Conv2D(64, kernel_size=(3, 3),\n",
        "                 activation='relu',padding = \"same\",kernel_initializer='he_normal',\n",
        "                 input_shape=input_shape))\n",
        "\n",
        "model.add(Conv2D(32, (2, 2), activation='relu',padding = \"same\",kernel_initializer='he_normal'))\n",
        "model.add(MaxPooling2D(pool_size=(4, 4)))\n",
        "\n",
        "model.add(Dropout(0.5))\n",
        "model.add(Conv2D(128, (5, 5), activation='relu',padding = \"same\",kernel_initializer='he_normal'))\n",
        "model.add(MaxPooling2D(pool_size=(2, 2)))\n",
        "\n",
        "model.add(Flatten())\n",
        "model.add(Dense(256, activation='relu'))\n",
        "\n",
        "model.add(Dense(num_classes, activation='softmax'))\n",
        "\n",
        "model.compile(loss=keras.losses.categorical_crossentropy,\n",
        "              optimizer=keras.optimizers.Adadelta(),\n",
        "              metrics=['accuracy'])\n",
        "\n",
        "history = model.fit(x_train, y_train,\n",
        "          batch_size=batch_size,\n",
        "          epochs=epochs,\n",
        "          verbose=1,\n",
        "          validation_data=(x_test, y_test))\n"
      ],
      "execution_count": 0,
      "outputs": [
        {
          "output_type": "stream",
          "text": [
            "Train on 60000 samples, validate on 10000 samples\n",
            "Epoch 1/12\n",
            "60000/60000 [==============================] - 7s 116us/step - loss: 0.3695 - acc: 0.8841 - val_loss: 0.0659 - val_acc: 0.9800\n",
            "Epoch 2/12\n",
            "60000/60000 [==============================] - 5s 84us/step - loss: 0.0884 - acc: 0.9717 - val_loss: 0.0437 - val_acc: 0.9874\n",
            "Epoch 3/12\n",
            "60000/60000 [==============================] - 5s 84us/step - loss: 0.0644 - acc: 0.9796 - val_loss: 0.0357 - val_acc: 0.9900\n",
            "Epoch 4/12\n",
            "60000/60000 [==============================] - 5s 84us/step - loss: 0.0519 - acc: 0.9829 - val_loss: 0.0267 - val_acc: 0.9922\n",
            "Epoch 5/12\n",
            "60000/60000 [==============================] - 5s 84us/step - loss: 0.0447 - acc: 0.9855 - val_loss: 0.0258 - val_acc: 0.9917\n",
            "Epoch 6/12\n",
            "60000/60000 [==============================] - 5s 84us/step - loss: 0.0422 - acc: 0.9867 - val_loss: 0.0209 - val_acc: 0.9941\n",
            "Epoch 7/12\n",
            "60000/60000 [==============================] - 5s 84us/step - loss: 0.0384 - acc: 0.9876 - val_loss: 0.0243 - val_acc: 0.9915\n",
            "Epoch 8/12\n",
            "60000/60000 [==============================] - 5s 84us/step - loss: 0.0345 - acc: 0.9888 - val_loss: 0.0215 - val_acc: 0.9928\n",
            "Epoch 9/12\n",
            "60000/60000 [==============================] - 5s 85us/step - loss: 0.0327 - acc: 0.9894 - val_loss: 0.0209 - val_acc: 0.9935\n",
            "Epoch 10/12\n",
            "60000/60000 [==============================] - 5s 84us/step - loss: 0.0295 - acc: 0.9907 - val_loss: 0.0200 - val_acc: 0.9935\n",
            "Epoch 11/12\n",
            "60000/60000 [==============================] - 5s 85us/step - loss: 0.0276 - acc: 0.9906 - val_loss: 0.0271 - val_acc: 0.9916\n",
            "Epoch 12/12\n",
            "60000/60000 [==============================] - 5s 85us/step - loss: 0.0263 - acc: 0.9917 - val_loss: 0.0196 - val_acc: 0.9939\n"
          ],
          "name": "stdout"
        }
      ]
    },
    {
      "cell_type": "code",
      "metadata": {
        "id": "ZOMhTs8fuJO5",
        "colab_type": "code",
        "outputId": "cb7ecacf-63ff-4025-802c-918fcce43578",
        "colab": {
          "base_uri": "https://localhost:8080/",
          "height": 318
        }
      },
      "source": [
        "\n",
        "import matplotlib.pyplot as plt\n",
        "%matplotlib inline\n",
        "score = model.evaluate(x_test, y_test, verbose=0) \n",
        "print('Test score:', score[0]) \n",
        "print('Test accuracy:', score[1])\n",
        "fig,ax = plt.subplots(1,1)\n",
        "ax.set_xlabel('epoch') ; ax.set_ylabel('Categorical Crossentropy Loss')\n",
        "x = list(range(1,epochs+1))\n",
        "vy = history.history['val_loss']\n",
        "ty = history.history['loss']\n",
        "plt_dynamic(x, vy, ty, ax)"
      ],
      "execution_count": 0,
      "outputs": [
        {
          "output_type": "stream",
          "text": [
            "Test score: 0.019555640378690443\n",
            "Test accuracy: 0.9939\n"
          ],
          "name": "stdout"
        },
        {
          "output_type": "display_data",
          "data": {
            "image/png": "[encoded data removed]",
            "text/plain": [
              "<Figure size 432x288 with 1 Axes>"
            ]
          },
          "metadata": {
            "tags": []
          }
        }
      ]
    },
    {
      "cell_type": "markdown",
      "metadata": {
        "id": "Ljif4Rb2fl5j",
        "colab_type": "text"
      },
      "source": [
        "#5Conv Layer Model"
      ]
    },
    {
      "cell_type": "code",
      "metadata": {
        "id": "DzzVnjqMdrFf",
        "colab_type": "code",
        "outputId": "f3d4a891-5eb7-4c60-e93e-f6ac5061a770",
        "colab": {
          "base_uri": "https://localhost:8080/",
          "height": 456
        }
      },
      "source": [
        "model = Sequential()\n",
        "model.add(Conv2D(28, kernel_size=(3, 3),\n",
        "                 activation='relu',padding = \"same\",\n",
        "                 input_shape=input_shape))\n",
        "\n",
        "model.add(Conv2D(32, (3, 3), activation='relu',padding = \"same\"))\n",
        "model.add(MaxPooling2D(pool_size=(2, 2)))\n",
        "\n",
        "model.add(Dropout(0.25))\n",
        "model.add(Conv2D(12, (5, 5), activation='relu'))\n",
        "model.add(MaxPooling2D(pool_size=(2, 2)))\n",
        "\n",
        "model.add(Flatten())\n",
        "model.add(Dense(128, activation='relu'))\n",
        "\n",
        "model.add(Dropout(0.5))\n",
        "model.add(Dense(256, activation='relu'))\n",
        "\n",
        "model.add(Dense(num_classes, activation='softmax'))\n",
        "\n",
        "model.compile(loss=keras.losses.categorical_crossentropy,\n",
        "              optimizer=keras.optimizers.Adadelta(),\n",
        "              metrics=['accuracy'])\n",
        "\n",
        "history = model.fit(x_train, y_train,\n",
        "          batch_size=batch_size,\n",
        "          epochs=epochs,\n",
        "          verbose=1,\n",
        "          validation_data=(x_test, y_test))\n"
      ],
      "execution_count": 0,
      "outputs": [
        {
          "output_type": "stream",
          "text": [
            "Train on 60000 samples, validate on 10000 samples\n",
            "Epoch 1/12\n",
            "60000/60000 [==============================] - 6s 99us/step - loss: 0.3485 - acc: 0.8872 - val_loss: 0.0818 - val_acc: 0.9734\n",
            "Epoch 2/12\n",
            "60000/60000 [==============================] - 4s 70us/step - loss: 0.1090 - acc: 0.9669 - val_loss: 0.0420 - val_acc: 0.9867\n",
            "Epoch 3/12\n",
            "60000/60000 [==============================] - 4s 70us/step - loss: 0.0829 - acc: 0.9751 - val_loss: 0.0328 - val_acc: 0.9900\n",
            "Epoch 4/12\n",
            "60000/60000 [==============================] - 4s 70us/step - loss: 0.0689 - acc: 0.9797 - val_loss: 0.0289 - val_acc: 0.9906\n",
            "Epoch 5/12\n",
            "60000/60000 [==============================] - 4s 70us/step - loss: 0.0607 - acc: 0.9818 - val_loss: 0.0305 - val_acc: 0.9908\n",
            "Epoch 6/12\n",
            "60000/60000 [==============================] - 4s 69us/step - loss: 0.0528 - acc: 0.9848 - val_loss: 0.0245 - val_acc: 0.9922\n",
            "Epoch 7/12\n",
            "60000/60000 [==============================] - 4s 69us/step - loss: 0.0485 - acc: 0.9859 - val_loss: 0.0233 - val_acc: 0.9920\n",
            "Epoch 8/12\n",
            "60000/60000 [==============================] - 4s 69us/step - loss: 0.0424 - acc: 0.9873 - val_loss: 0.0233 - val_acc: 0.9923\n",
            "Epoch 9/12\n",
            "60000/60000 [==============================] - 4s 70us/step - loss: 0.0405 - acc: 0.9873 - val_loss: 0.0239 - val_acc: 0.9932\n",
            "Epoch 10/12\n",
            "60000/60000 [==============================] - 4s 70us/step - loss: 0.0386 - acc: 0.9884 - val_loss: 0.0276 - val_acc: 0.9917\n",
            "Epoch 11/12\n",
            "60000/60000 [==============================] - 4s 69us/step - loss: 0.0363 - acc: 0.9894 - val_loss: 0.0207 - val_acc: 0.9930\n",
            "Epoch 12/12\n",
            "60000/60000 [==============================] - 4s 69us/step - loss: 0.0337 - acc: 0.9899 - val_loss: 0.0199 - val_acc: 0.9941\n"
          ],
          "name": "stdout"
        }
      ]
    },
    {
      "cell_type": "code",
      "metadata": {
        "id": "Dfg_r2661sRp",
        "colab_type": "code",
        "outputId": "00e76361-4f40-45d0-a53d-d92a84253252",
        "colab": {
          "base_uri": "https://localhost:8080/",
          "height": 318
        }
      },
      "source": [
        "score = model.evaluate(x_test, y_test, verbose=0) \n",
        "print('Test score:', score[0]) \n",
        "print('Test accuracy:', score[1])\n",
        "fig,ax = plt.subplots(1,1)\n",
        "ax.set_xlabel('epoch') ; ax.set_ylabel('Categorical Crossentropy Loss')\n",
        "x = list(range(1,epochs+1))\n",
        "vy = history.history['val_loss']\n",
        "ty = history.history['loss']\n",
        "plt_dynamic(x, vy, ty, ax)"
      ],
      "execution_count": 0,
      "outputs": [
        {
          "output_type": "stream",
          "text": [
            "Test score: 0.01987199738456302\n",
            "Test accuracy: 0.9941\n"
          ],
          "name": "stdout"
        },
        {
          "output_type": "display_data",
          "data": {
            "image/png": "[encoded data removed]",
            "text/plain": [
              "<Figure size 432x288 with 1 Axes>"
            ]
          },
          "metadata": {
            "tags": []
          }
        }
      ]
    },
    {
      "cell_type": "markdown",
      "metadata": {
        "id": "veY8xbhgmTtz",
        "colab_type": "text"
      },
      "source": [
        "#7 Layer"
      ]
    },
    {
      "cell_type": "code",
      "metadata": {
        "id": "xODvLfA0lTkk",
        "colab_type": "code",
        "outputId": "e3cf1695-0bcd-4830-ea64-339aff90cfdc",
        "colab": {
          "base_uri": "https://localhost:8080/",
          "height": 491
        }
      },
      "source": [
        "from keras.layers.normalization import BatchNormalization\n",
        "model = Sequential()\n",
        "model.add(Conv2D(128, kernel_size=(3, 3),\n",
        "                 activation='relu',padding = \"same\",kernel_initializer='he_normal',\n",
        "                 input_shape=input_shape))\n",
        "\n",
        "model.add(Dropout(0.25))\n",
        "model.add(Conv2D(32, (2,2), activation='relu',padding = \"same\",kernel_initializer='he_normal'))\n",
        "model.add(MaxPooling2D(pool_size=(3, 3),padding='same'))\n",
        "model.add(BatchNormalization())\n",
        "model.add(Dropout(0.5))\n",
        "model.add(Conv2D(64, (3, 3), activation='relu',padding = \"same\",kernel_initializer='he_normal'))\n",
        "model.add(MaxPooling2D(pool_size=(2, 2),padding='same'))\n",
        "\n",
        "model.add(Conv2D(256, (3, 3), activation='relu',padding = \"same\",kernel_initializer='he_normal'))\n",
        "model.add(Conv2D(128, (2, 2), activation='relu',padding = \"same\",kernel_initializer='he_normal'))\n",
        "model.add(Flatten())\n",
        "model.add(Dense(64, activation='relu',kernel_initializer='he_normal'))\n",
        "\n",
        "model.add(BatchNormalization())\n",
        "model.add(Dense(64, activation='relu',kernel_initializer='he_normal'))\n",
        "model.add(Dense(num_classes, activation='softmax'))\n",
        "\n",
        "model.compile(loss=keras.losses.categorical_crossentropy,\n",
        "              optimizer=keras.optimizers.Adam(),\n",
        "              metrics=['accuracy'])\n",
        "\n",
        "model.fit(x_train, y_train,\n",
        "          batch_size=batch_size,\n",
        "          epochs=epochs,\n",
        "          verbose=1,\n",
        "          validation_data=(x_test, y_test))\n",
        "score = model.evaluate(x_test, y_test, verbose=0)\n",
        "print('Test loss:', score[0])\n",
        "print('Test accuracy:', score[1])"
      ],
      "execution_count": 0,
      "outputs": [
        {
          "output_type": "stream",
          "text": [
            "Train on 60000 samples, validate on 10000 samples\n",
            "Epoch 1/12\n",
            "60000/60000 [==============================] - 15s 255us/step - loss: 0.2361 - acc: 0.9308 - val_loss: 0.1110 - val_acc: 0.9640\n",
            "Epoch 2/12\n",
            "60000/60000 [==============================] - 12s 205us/step - loss: 0.0707 - acc: 0.9779 - val_loss: 0.0567 - val_acc: 0.9820\n",
            "Epoch 3/12\n",
            "60000/60000 [==============================] - 12s 206us/step - loss: 0.0518 - acc: 0.9839 - val_loss: 0.0364 - val_acc: 0.9887\n",
            "Epoch 4/12\n",
            "60000/60000 [==============================] - 12s 206us/step - loss: 0.0448 - acc: 0.9851 - val_loss: 0.0333 - val_acc: 0.9891\n",
            "Epoch 5/12\n",
            "60000/60000 [==============================] - 12s 206us/step - loss: 0.0389 - acc: 0.9878 - val_loss: 0.0283 - val_acc: 0.9904\n",
            "Epoch 6/12\n",
            "60000/60000 [==============================] - 12s 206us/step - loss: 0.0349 - acc: 0.9890 - val_loss: 0.0304 - val_acc: 0.9903\n",
            "Epoch 7/12\n",
            "60000/60000 [==============================] - 12s 206us/step - loss: 0.0313 - acc: 0.9901 - val_loss: 0.0416 - val_acc: 0.9862\n",
            "Epoch 8/12\n",
            "60000/60000 [==============================] - 12s 205us/step - loss: 0.0288 - acc: 0.9906 - val_loss: 0.0276 - val_acc: 0.9903\n",
            "Epoch 9/12\n",
            "60000/60000 [==============================] - 12s 206us/step - loss: 0.0287 - acc: 0.9908 - val_loss: 0.0210 - val_acc: 0.9932\n",
            "Epoch 10/12\n",
            "60000/60000 [==============================] - 12s 206us/step - loss: 0.0245 - acc: 0.9924 - val_loss: 0.0259 - val_acc: 0.9915\n",
            "Epoch 11/12\n",
            "60000/60000 [==============================] - 12s 206us/step - loss: 0.0226 - acc: 0.9924 - val_loss: 0.0224 - val_acc: 0.9935\n",
            "Epoch 12/12\n",
            "60000/60000 [==============================] - 12s 207us/step - loss: 0.0231 - acc: 0.9926 - val_loss: 0.0246 - val_acc: 0.9923\n",
            "Test loss: 0.02459281551934255\n",
            "Test accuracy: 0.9923\n"
          ],
          "name": "stdout"
        }
      ]
    },
    {
      "cell_type": "code",
      "metadata": {
        "id": "wYmeUMUW17NR",
        "colab_type": "code",
        "outputId": "637b3968-74da-411c-e47a-933e6d3a21db",
        "colab": {
          "base_uri": "https://localhost:8080/",
          "height": 318
        }
      },
      "source": [
        "score = model.evaluate(x_test, y_test, verbose=0) \n",
        "print('Test score:', score[0]) \n",
        "print('Test accuracy:', score[1])\n",
        "fig,ax = plt.subplots(1,1)\n",
        "ax.set_xlabel('epoch') ; ax.set_ylabel('Categorical Crossentropy Loss')\n",
        "x = list(range(1,epochs+1))\n",
        "vy = history.history['val_loss']\n",
        "ty = history.history['loss']\n",
        "plt_dynamic(x, vy, ty, ax)"
      ],
      "execution_count": 0,
      "outputs": [
        {
          "output_type": "stream",
          "text": [
            "Test score: 0.02459281551934255\n",
            "Test accuracy: 0.9923\n"
          ],
          "name": "stdout"
        },
        {
          "output_type": "display_data",
          "data": {
            "image/png": "[encoded data removed]",
            "text/plain": [
              "<Figure size 432x288 with 1 Axes>"
            ]
          },
          "metadata": {
            "tags": []
          }
        }
      ]
    },
    {
      "cell_type": "code",
      "metadata": {
        "id": "xApQGFvi1_n_",
        "colab_type": "code",
        "outputId": "d0881314-0491-470f-f5bd-f4a0b1a67f13",
        "colab": {
          "base_uri": "https://localhost:8080/",
          "height": 140
        }
      },
      "source": [
        "from prettytable import PrettyTable\n",
        "\n",
        "x = PrettyTable()\n",
        "x.field_names = [\"CONV-Layers\",\"Test_Accuracy\",\"Test_Score\"]\n",
        "x.add_row([4,.9939,.0195])\n",
        "x.add_row([5,.9941,.0198])\n",
        "x.add_row([7,.9923,.0245])\n",
        "print(x)"
      ],
      "execution_count": 0,
      "outputs": [
        {
          "output_type": "stream",
          "text": [
            "+-------------+---------------+------------+\n",
            "| CONV-Layers | Test_Accuracy | Test_Score |\n",
            "+-------------+---------------+------------+\n",
            "|      4      |     0.9939    |   0.0195   |\n",
            "|      5      |     0.9941    |   0.0198   |\n",
            "|      7      |     0.9923    |   0.0245   |\n",
            "+-------------+---------------+------------+\n"
          ],
          "name": "stdout"
        }
      ]
    }
  ]
}