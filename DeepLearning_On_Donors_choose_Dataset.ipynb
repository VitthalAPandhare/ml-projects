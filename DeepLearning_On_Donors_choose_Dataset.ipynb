{
  "nbformat": 4,
  "nbformat_minor": 0,
  "metadata": {
    "colab": {
      "name": "DeepLearning On Donors choose Dataset.ipynb",
      "version": "0.3.2",
      "provenance": [],
      "collapsed_sections": [],
      "machine_shape": "hm"
    },
    "language_info": {
      "codemirror_mode": {
        "name": "ipython",
        "version": 3
      },
      "file_extension": ".py",
      "mimetype": "text/x-python",
      "name": "python",
      "nbconvert_exporter": "python",
      "pygments_lexer": "ipython3",
      "version": "3.6.8"
    },
    "kernelspec": {
      "name": "python3",
      "display_name": "Python 3"
    },
    "accelerator": "GPU"
  },
  "cells": [
    {
      "cell_type": "markdown",
      "metadata": {
        "id": "bCNdwOqp8JUg",
        "colab_type": "text"
      },
      "source": [
        "### Model-1\n",
        "\n",
        "deep neural network as shown below"
      ]
    },
    {
      "cell_type": "markdown",
      "metadata": {
        "id": "ex6j3bay8JUh",
        "colab_type": "text"
      },
      "source": [
        "<img src='https://i.imgur.com/w395Yk9.png'>\n",
        "ref: https://i.imgur.com/w395Yk9.png"
      ]
    },
    {
      "cell_type": "markdown",
      "metadata": {
        "id": "Vojtenrh8JU5",
        "colab_type": "text"
      },
      "source": [
        "### Model-2"
      ]
    },
    {
      "cell_type": "markdown",
      "metadata": {
        "id": "ZYGriNNtazl3",
        "colab_type": "text"
      },
      "source": [
        "This model Is using top words with moderate idf scores as words with extreme idf scores don't give much information and thus reduce vector dimensions"
      ]
    },
    {
      "cell_type": "markdown",
      "metadata": {
        "id": "we53VKam8JU_",
        "colab_type": "text"
      },
      "source": [
        "### Model-3"
      ]
    },
    {
      "cell_type": "markdown",
      "metadata": {
        "id": "T_Rr_h8Q8JVA",
        "colab_type": "text"
      },
      "source": [
        "<img src='https://i.imgur.com/fkQ8nGo.png'>\n",
        "ref: https://i.imgur.com/fkQ8nGo.png"
      ]
    },
    {
      "cell_type": "markdown",
      "metadata": {
        "id": "aN6mxOF-bOF3",
        "colab_type": "text"
      },
      "source": [
        "## Note have attached reference links to get best DL model and code snippets"
      ]
    },
    {
      "cell_type": "code",
      "metadata": {
        "id": "lcRCi9aD-YZs",
        "colab_type": "code",
        "colab": {}
      },
      "source": [
        "%matplotlib inline\n",
        "import warnings\n",
        "warnings.filterwarnings(\"ignore\")\n",
        "\n",
        "import sqlite3\n",
        "import pandas as pd\n",
        "import numpy as np\n",
        "import nltk\n",
        "import string\n",
        "import matplotlib.pyplot as plt\n",
        "import seaborn as sns\n",
        "from sklearn.feature_extraction.text import TfidfTransformer\n",
        "from sklearn.feature_extraction.text import TfidfVectorizer\n",
        "\n",
        "from sklearn.feature_extraction.text import CountVectorizer\n",
        "from sklearn.metrics import confusion_matrix\n",
        "from sklearn import metrics\n",
        "from sklearn.metrics import roc_curve, auc\n",
        "from nltk.stem.porter import PorterStemmer\n",
        "\n",
        "import re\n",
        "# Tutorial about Python regular expressions: https://pymotw.com/2/re/\n",
        "import string\n",
        "from nltk.corpus import stopwords\n",
        "from nltk.stem import PorterStemmer\n",
        "from nltk.stem.wordnet import WordNetLemmatizer\n",
        "\n",
        "from gensim.models import Word2Vec\n",
        "from gensim.models import KeyedVectors\n",
        "import pickle\n",
        "\n",
        "from tqdm import tqdm\n",
        "import os\n",
        "\n",
        "from plotly import plotly\n",
        "import plotly.offline as offline\n",
        "import plotly.graph_objs as go\n",
        "offline.init_notebook_mode()\n",
        "from collections import Counter"
      ],
      "execution_count": 0,
      "outputs": []
    },
    {
      "cell_type": "code",
      "metadata": {
        "id": "xxMINH3HLib1",
        "colab_type": "code",
        "outputId": "10633f91-fad8-46d4-cb2c-9aa66d5e737a",
        "colab": {
          "base_uri": "https://localhost:8080/",
          "height": 35
        }
      },
      "source": [
        "\n",
        "from numpy import array\n",
        "from numpy import asarray\n",
        "from numpy import zeros\n",
        "from keras.preprocessing.text import Tokenizer\n",
        "from keras.preprocessing.sequence import pad_sequences\n",
        "from keras.models import Sequential\n",
        "from keras.layers import Dense,Input,LSTM,Flatten,Embedding\n"
      ],
      "execution_count": 0,
      "outputs": [
        {
          "output_type": "stream",
          "text": [
            "Using TensorFlow backend.\n"
          ],
          "name": "stderr"
        }
      ]
    },
    {
      "cell_type": "code",
      "metadata": {
        "id": "yhjkmVF2-ld1",
        "colab_type": "code",
        "colab": {}
      },
      "source": [
        "project_data = pd.read_csv('train_data.csv')\n",
        "resource_data = pd.read_csv('resources.csv')\n",
        "# get resource file from Drive\n",
        "\n",
        "print(\"Number of data points in train data\", project_data.shape)\n",
        "print('-'*50)\n",
        "print(\"The attributes of data :\", project_data.columns.values)"
      ],
      "execution_count": 0,
      "outputs": []
    },
    {
      "cell_type": "code",
      "metadata": {
        "id": "9C1NCM7o_VDI",
        "colab_type": "code",
        "colab": {}
      },
      "source": [
        "# https://stackoverflow.com/a/47091490/4084039\n",
        "import re\n",
        "\n",
        "def decontracted(phrase):\n",
        "    # specific\n",
        "    phrase = re.sub(r\"won't\", \"will not\", phrase)\n",
        "    phrase = re.sub(r\"can\\'t\", \"can not\", phrase)\n",
        "\n",
        "    # general\n",
        "    phrase = re.sub(r\"n\\'t\", \" not\", phrase)\n",
        "    phrase = re.sub(r\"\\'re\", \" are\", phrase)\n",
        "    phrase = re.sub(r\"\\'s\", \" is\", phrase)\n",
        "    phrase = re.sub(r\"\\'d\", \" would\", phrase)\n",
        "    phrase = re.sub(r\"\\'ll\", \" will\", phrase)\n",
        "    phrase = re.sub(r\"\\'t\", \" not\", phrase)\n",
        "    phrase = re.sub(r\"\\'ve\", \" have\", phrase)\n",
        "    phrase = re.sub(r\"\\'m\", \" am\", phrase)\n",
        "    return phrase\n",
        "  \n",
        "# https://gist.github.com/sebleier/554280\n",
        "# we are removing the words from the stop words list: 'no', 'nor', 'not'\n",
        "stopwords= ['i', 'me', 'my', 'myself', 'we', 'our', 'ours', 'ourselves', 'you', \"you're\", \"you've\",\\\n",
        "            \"you'll\", \"you'd\", 'your', 'yours', 'yourself', 'yourselves', 'he', 'him', 'his', 'himself', \\\n",
        "            'she', \"she's\", 'her', 'hers', 'herself', 'it', \"it's\", 'its', 'itself', 'they', 'them', 'their',\\\n",
        "            'theirs', 'themselves', 'what', 'which', 'who', 'whom', 'this', 'that', \"that'll\", 'these', 'those', \\\n",
        "            'am', 'is', 'are', 'was', 'were', 'be', 'been', 'being', 'have', 'has', 'had', 'having', 'do', 'does', \\\n",
        "            'did', 'doing', 'a', 'an', 'the', 'and', 'but', 'if', 'or', 'because', 'as', 'until', 'while', 'of', \\\n",
        "            'at', 'by', 'for', 'with', 'about', 'against', 'between', 'into', 'through', 'during', 'before', 'after',\\\n",
        "            'above', 'below', 'to', 'from', 'up', 'down', 'in', 'out', 'on', 'off', 'over', 'under', 'again', 'further',\\\n",
        "            'then', 'once', 'here', 'there', 'when', 'where', 'why', 'how', 'all', 'any', 'both', 'each', 'few', 'more',\\\n",
        "            'most', 'other', 'some', 'such', 'only', 'own', 'same', 'so', 'than', 'too', 'very', \\\n",
        "            's', 't', 'can', 'will', 'just', 'don', \"don't\", 'should', \"should've\", 'now', 'd', 'll', 'm', 'o', 're', \\\n",
        "            've', 'y', 'ain', 'aren', \"aren't\", 'couldn', \"couldn't\", 'didn', \"didn't\", 'doesn', \"doesn't\", 'hadn',\\\n",
        "            \"hadn't\", 'hasn', \"hasn't\", 'haven', \"haven't\", 'isn', \"isn't\", 'ma', 'mightn', \"mightn't\", 'mustn',\\\n",
        "            \"mustn't\", 'needn', \"needn't\", 'shan', \"shan't\", 'shouldn', \"shouldn't\", 'wasn', \"wasn't\", 'weren', \"weren't\", \\\n",
        "            'won', \"won't\", 'wouldn', \"wouldn't\"]"
      ],
      "execution_count": 0,
      "outputs": []
    },
    {
      "cell_type": "code",
      "metadata": {
        "id": "JlMOYM7InmZH",
        "colab_type": "code",
        "outputId": "e5428b0a-fbe6-4b5d-949c-ebf7c7572853",
        "colab": {
          "base_uri": "https://localhost:8080/",
          "height": 139
        }
      },
      "source": [
        "project_data.columns"
      ],
      "execution_count": 0,
      "outputs": [
        {
          "output_type": "execute_result",
          "data": {
            "text/plain": [
              "Index(['Unnamed: 0', 'id', 'teacher_id', 'teacher_prefix', 'school_state',\n",
              "       'project_submitted_datetime', 'project_grade_category',\n",
              "       'project_subject_categories', 'project_subject_subcategories',\n",
              "       'project_title', 'project_essay_1', 'project_essay_2',\n",
              "       'project_essay_3', 'project_essay_4', 'project_resource_summary',\n",
              "       'teacher_number_of_previously_posted_projects', 'project_is_approved'],\n",
              "      dtype='object')"
            ]
          },
          "metadata": {
            "tags": []
          },
          "execution_count": 8
        }
      ]
    },
    {
      "cell_type": "code",
      "metadata": {
        "id": "JHauQU-P_Xop",
        "colab_type": "code",
        "outputId": "5c0220bf-13ab-48e5-f05b-704cd5cd594f",
        "colab": {
          "base_uri": "https://localhost:8080/",
          "height": 52
        }
      },
      "source": [
        "\n",
        "   # merge two column text dataframe: \n",
        "    project_data[\"essay\"] = project_data[\"project_essay_1\"].map(str) +\\\n",
        "                            project_data[\"project_essay_2\"].map(str) + \\\n",
        "                            project_data[\"project_essay_3\"].map(str) + \\\n",
        "                            project_data[\"project_essay_4\"].map(str) + \\\n",
        "                            project_data[\"project_title\"]\n",
        "    catogories = list(project_data['project_subject_categories'].values)\n",
        "    # remove special characters from list of strings python: https://stackoverflow.com/a/47301924/4084039\n",
        "\n",
        "    # https://www.geeksforgeeks.org/removing-stop-words-nltk-python/\n",
        "    # https://stackoverflow.com/questions/23669024/how-to-strip-a-specific-word-from-a-string\n",
        "    # https://stackoverflow.com/questions/8270092/remove-all-whitespace-in-a-string-in-python\n",
        "    cat_list = []\n",
        "    for i in catogories:\n",
        "        temp = \"\"\n",
        "        # consider we have text like this \"Math & Science, Warmth, Care & Hunger\"\n",
        "        for j in i.split(','): # it will split it in three parts [\"Math & Science\", \"Warmth\", \"Care & Hunger\"]\n",
        "            if 'The' in j.split(): # this will split each of the catogory based on space \"Math & Science\"=> \"Math\",\"&\", \"Science\"\n",
        "                j=j.replace('The','') # if we have the words \"The\" we are going to replace it with ''(i.e removing 'The')\n",
        "            j = j.replace(' ','') # we are placeing all the ' '(space) with ''(empty) ex:\"Math & Science\"=>\"Math&Science\"\n",
        "            temp+=j.strip()+\" \" #\" abc \".strip() will return \"abc\", remove the trailing spaces\n",
        "            temp = temp.replace('&','_') # we are replacing the & value into \n",
        "        cat_list.append(temp.strip())\n",
        "\n",
        "    project_data['clean_categories'] = cat_list\n",
        "    from collections import Counter\n",
        "    my_counter = Counter()\n",
        "    for word in project_data['clean_categories'].values:\n",
        "        my_counter.update(word.split())\n",
        "\n",
        "    cat_dict = dict(my_counter)\n",
        "\n",
        "\n",
        "    #  preprocessing of project_subject_subcategories\n",
        "    sorted_cat_dict = dict(sorted(cat_dict.items(), key=lambda kv: kv[1]))\n",
        "    sub_catogories = list(project_data['project_subject_subcategories'].values)\n",
        "    # remove special characters from list of strings python: https://stackoverflow.com/a/47301924/4084039\n",
        "\n",
        "    # https://www.geeksforgeeks.org/removing-stop-words-nltk-python/\n",
        "    # https://stackoverflow.com/questions/23669024/how-to-strip-a-specific-word-from-a-string\n",
        "    # https://stackoverflow.com/questions/8270092/remove-all-whitespace-in-a-string-in-python\n",
        "\n",
        "    sub_cat_list = []\n",
        "    for i in sub_catogories:\n",
        "        temp = \"\"\n",
        "        # consider we have text like this \"Math & Science, Warmth, Care & Hunger\"\n",
        "        for j in i.split(','): # it will split it in three parts [\"Math & Science\", \"Warmth\", \"Care & Hunger\"]\n",
        "            if 'The' in j.split(): # this will split each of the catogory based on space \"Math & Science\"=> \"Math\",\"&\", \"Science\"\n",
        "                j=j.replace('The','') # if we have the words \"The\" we are going to replace it with ''(i.e removing 'The')\n",
        "            j = j.replace(' ','')\n",
        "            # we are placeing all the ' '(space) with ''(empty) ex:\"Math & Science\"=>\"Math&Science\"\n",
        "            temp +=j.strip()+\" \"#\" abc \".strip() will return \"abc\", remove the trailing spaces\n",
        "            temp = temp.replace('&','_')\n",
        "        sub_cat_list.append(temp.strip())\n",
        "\n",
        "    project_data['clean_subcategories'] = sub_cat_list\n",
        "\n",
        "    # count of all the words in corpus python: https://stackoverflow.com/a/22898595/4084039\n",
        "    my_counter = Counter()\n",
        "    for word in project_data['clean_subcategories'].values:\n",
        "        my_counter.update(word.split())\n",
        "\n",
        "    sub_cat_dict = dict(my_counter)\n",
        "    sorted_sub_cat_dict = dict(sorted(sub_cat_dict.items(), key=lambda kv: kv[1]))\n",
        "\n",
        "    #Preprocessing Essays\n",
        "\n",
        "    from tqdm import tqdm\n",
        "    preprocessed_essays = []\n",
        "    # tqdm is for printing the status bar\n",
        "    for sentance in tqdm(project_data['essay'].values):\n",
        "        sent = decontracted(sentance)\n",
        "        sent = sent.replace('\\\\r', ' ')\n",
        "        sent = sent.replace('\\\\\"', ' ')\n",
        "        sent = sent.replace('\\\\n', ' ')\n",
        "        sent = re.sub('[^A-Za-z0-9]+', ' ', sent)\n",
        "        # https://gist.github.com/sebleier/554280\n",
        "        sent = ' '.join(e for e in sent.split() if e.lower() not in stopwords)\n",
        "        preprocessed_essays.append(sent.lower().strip())\n",
        "\n",
        "\n",
        "\n",
        "    # similarly you can preprocess the titles also\n",
        "    preprocessed_title =[]\n",
        "    for sentance in tqdm(project_data['project_title'].values):\n",
        "        sent = decontracted(sentance)\n",
        "        sent = sent.replace('\\\\r', ' ')\n",
        "        sent = sent.replace('\\\\\"', ' ')\n",
        "        sent = sent.replace('\\\\n', ' ')\n",
        "        sent = re.sub('[^A-Za-z0-9]+', ' ', sent)\n",
        "        # https://gist.github.com/sebleier/554280\n",
        "        sent = ' '.join(e for e in sent.split() if e not in stopwords)\n",
        "        preprocessed_title.append(sent.lower().strip())\n",
        "\n",
        "    # Merging Resource data\n",
        "\n",
        "    price_data = resource_data.groupby('id').agg({'price':'sum', 'quantity':'sum'}).reset_index()\n",
        "    project_data = pd.merge(project_data, price_data, on='id', how='left')\n",
        "\n",
        "\n",
        "    # Droppping project essays\n",
        "\n",
        "    project_data = project_data.drop([ 'project_essay_1', 'project_essay_2', 'project_essay_3', 'project_essay_4'],axis =1)\n",
        "    project_data['essay'] = preprocessed_essays\n",
        "    project_data['project_title'] = preprocessed_title\n",
        "    project_data.head()\n",
        "\n",
        "\n",
        "    #preprocesing grades\n",
        "    grades = []\n",
        "    for grade in project_data.project_grade_category.values :\n",
        "        temp = re.sub(\"Grades \",\"\",grade)\n",
        "        grades.append(re.sub(\"-\",\"_to_\",temp))\n",
        "    project_data['project_grade_category'] = grades\n",
        "\n",
        "    #preprocessing teacher_prefix\n",
        "    project_data.teacher_prefix = project_data.teacher_prefix.str.replace('.','').fillna(\"_\")\n",
        "\n",
        "\n"
      ],
      "execution_count": 0,
      "outputs": [
        {
          "output_type": "stream",
          "text": [
            "100%|██████████| 109248/109248 [01:11<00:00, 1523.07it/s]\n",
            "100%|██████████| 109248/109248 [00:03<00:00, 35649.85it/s]\n"
          ],
          "name": "stderr"
        }
      ]
    },
    {
      "cell_type": "code",
      "metadata": {
        "id": "4CMFdbaVo3Tg",
        "colab_type": "code",
        "colab": {}
      },
      "source": [
        "from sklearn.model_selection import train_test_split\n",
        "Y = project_data['project_is_approved']\n",
        "project_data = project_data.drop('project_is_approved',axis =1)\n",
        "X_train,X_test,Y_train,Y_test = train_test_split(project_data,Y,test_size = 0.3,random_state = 23)\n",
        "X_train,X_CV,Y_train,Y_CV =  train_test_split(X_train,Y_train,test_size = 0.1,random_state = 23)"
      ],
      "execution_count": 0,
      "outputs": []
    },
    {
      "cell_type": "code",
      "metadata": {
        "id": "WXIoPior5SrG",
        "colab_type": "code",
        "colab": {}
      },
      "source": [
        ""
      ],
      "execution_count": 0,
      "outputs": []
    },
    {
      "cell_type": "markdown",
      "metadata": {
        "id": "xyBD1MEiL9ex",
        "colab_type": "text"
      },
      "source": [
        "<img src='https://i.imgur.com/w395Yk9.png'>\n",
        "ref: https://i.imgur.com/w395Yk9.png"
      ]
    },
    {
      "cell_type": "code",
      "metadata": {
        "id": "8gmtU0rCeOA-",
        "colab_type": "code",
        "outputId": "5eb0dd48-307f-4123-b6f1-94da52f51192",
        "colab": {
          "base_uri": "https://localhost:8080/",
          "height": 35
        }
      },
      "source": [
        "Essay_VocabSize"
      ],
      "execution_count": 0,
      "outputs": [
        {
          "output_type": "execute_result",
          "data": {
            "text/plain": [
              "57759"
            ]
          },
          "metadata": {
            "tags": []
          },
          "execution_count": 42
        }
      ]
    },
    {
      "cell_type": "code",
      "metadata": {
        "id": "JfAg0MXIMtpp",
        "colab_type": "code",
        "colab": {}
      },
      "source": [
        "# Used predifend glove vectors to get values\n",
        "downloaded.GetContentFile('glove_vectors')  \n",
        "with open('glove_vectors', 'rb') as f:\n",
        "    model1 = pickle.load(f)\n",
        "    glove_words =  set(model1.keys())"
      ],
      "execution_count": 0,
      "outputs": []
    },
    {
      "cell_type": "code",
      "metadata": {
        "id": "EgMEZniVNS34",
        "colab_type": "code",
        "outputId": "3b86603d-7577-4f0b-b519-1906236409f8",
        "colab": {
          "base_uri": "https://localhost:8080/",
          "height": 193
        }
      },
      "source": [
        "from numpy import array\n",
        "from numpy import asarray\n",
        "from numpy import zeros\n",
        "from keras.preprocessing.text import Tokenizer\n",
        "from keras.preprocessing.sequence import pad_sequences\n",
        "from keras.models import Sequential\n",
        "from keras.layers import Dense,Input,LSTM,Concatenate\n",
        "from keras.layers import Flatten\n",
        "from keras.layers import Embedding\n",
        "\n",
        "# prepare tokenizer\n",
        "t = Tokenizer()\n",
        "t.fit_on_texts(X_train['essay'])\n",
        "Essay_VocabSize = len(t.word_index) + 1\n",
        "# integer encode the documents\n",
        "encoded_docs_train = t.texts_to_sequences(X_train['essay'])\n",
        "encoded_docs_test = t.texts_to_sequences(X_test['essay'])\n",
        "encoded_docs_cv = t.texts_to_sequences(X_CV['essay'])\n",
        "print(encoded_docs_train[0:10])\n",
        "\n",
        "max_length_essay = max([len(a) for a in encoded_docs_train])\n",
        "\n",
        "# create a weight matrix for words in training docs\n",
        "embedding_matrix = zeros((Essay_VocabSize, 300),dtype = np.float16)\n",
        "for word, i in t.word_index.items() :\n",
        "  if word in model1 :\n",
        "    embedding_vector = model1[word] \n",
        "  else :\n",
        "    embedding_vector = zeros(300)\n",
        "  embedding_matrix[i] = embedding_vector\n",
        "print(max_length_essay)\n",
        "padded_docs_train = pad_sequences(encoded_docs_train, maxlen=max_length_essay, padding='post')\n",
        "padded_docs_test = pad_sequences(encoded_docs_test, maxlen=max_length_essay, padding='post')\n",
        "padded_docs_cv = pad_sequences(encoded_docs_cv, maxlen=max_length_essay, padding='post')\n",
        "print(padded_docs_train[0:12])\n",
        "\n",
        "\n"
      ],
      "execution_count": 0,
      "outputs": [
        {
          "output_type": "stream",
          "text": [
            "[[1, 13, 18, 15, 12, 868, 1644, 297, 3, 40, 71, 11, 193, 1, 15, 12, 3024, 2657, 214, 347, 286, 40, 82, 123, 474, 2686, 673, 95, 63, 2352, 38, 27, 37, 6, 79, 9, 382, 404, 2226, 6, 1075, 85, 45, 2226, 2054, 67, 5414, 1494, 6, 1652, 73, 10402, 1250, 183, 15, 38, 3, 116, 955, 318, 51, 492, 1, 15, 267, 349, 289, 5, 69, 15, 519, 267, 347, 11, 515, 10, 11, 298, 1, 69, 27, 2236, 303, 347, 11, 240, 382, 332, 15, 476, 286, 174, 382, 681, 939, 58, 303, 2965, 4264, 3, 2638, 1894, 286, 1277, 681, 939, 3, 3839, 3283, 6], [154, 653, 1549, 1, 891, 2, 107, 149, 211, 1, 2, 481, 2636, 82, 245, 123, 99, 16, 129, 5, 35, 101, 1, 32, 107, 29, 101, 13332, 2873, 1117, 343, 370, 941, 1958, 1707, 1, 16, 2636, 43, 584, 107, 47, 692, 692, 2, 107, 3007, 124, 316, 1, 43, 129, 112, 2, 2094, 809, 82, 113, 422, 172, 136, 108, 1, 2, 2146, 28, 665, 5, 26, 1855, 17, 17, 80, 16, 2, 1505, 2214, 3396, 3410, 239, 402, 25, 359, 1, 3, 32, 66, 49, 298, 7175, 35, 601, 219, 1355, 20, 3126, 2, 24, 1, 15, 49, 298, 7175, 2757, 47, 1, 5, 32, 300, 61, 43, 1810, 1311, 432, 24, 692, 2702, 22, 7, 177, 2, 153, 300, 601, 562, 392, 1393, 78, 47, 1758, 685, 4112, 23625, 1810, 2702], [894, 39, 78, 756, 2124, 8836, 5010, 664, 1990, 23626, 6299, 23, 690, 451, 197, 111, 894, 39, 36, 174, 1680, 66, 352, 133, 1, 944, 725, 414, 1476, 1231, 80, 2890, 1102, 53, 185, 236, 223, 891, 176, 452, 63, 371, 7307, 2, 317, 4, 5, 8, 249, 135, 332, 1608, 53, 4, 4936, 1, 281, 431, 249, 244, 20, 352, 79, 283, 25, 1656, 2074, 329, 143, 1214, 53, 1123, 384, 351, 1, 9, 15, 91, 53, 5, 6, 1947, 998, 171, 3555, 179, 283, 998, 244, 2425, 807, 407, 2776, 234, 1553, 5802, 763, 14256, 373, 2511, 143, 1, 2851, 950, 39, 9, 15, 276, 820, 998, 244, 6, 2, 170, 66, 214, 998, 1024, 115, 73, 1201, 5, 194, 20, 332, 7445, 2220, 33, 466, 35, 1, 214, 1024, 115, 1038, 98, 940, 1137, 222, 431, 1371, 1947, 3, 1, 326, 348, 53, 17, 277, 214, 222, 1151, 39, 97, 711, 53, 820, 8, 259, 153, 170, 249, 70, 1, 5, 6, 1151, 450, 448, 5, 6, 1479, 5687, 5054, 1384, 111, 1186, 5, 6, 13, 53, 336, 436, 132, 764, 7, 1690, 2, 501], [1, 536, 51, 88, 45, 705, 17, 3, 272, 705, 980, 677, 45, 469, 43, 606, 16, 43, 129, 13, 6, 23, 20, 250, 145, 187, 61, 396, 33, 538, 2071, 3912, 9456, 355, 335, 253, 452, 270, 2, 7176, 1, 1943, 55, 144, 282, 74, 33, 35, 1, 12, 323, 73, 140, 49, 1286, 8, 43, 3248, 37, 15, 213, 451, 10, 117, 238, 28, 142, 309, 15, 140, 867, 5913, 1058, 75, 1567, 9, 327, 33, 35, 131, 458, 3127, 136, 12, 37, 15, 3054, 595, 179, 309, 140, 149, 101, 22, 277, 421, 2261, 1, 751, 316, 140, 63, 914, 4331, 278, 4, 3990, 61, 719, 73], [1, 131, 2652, 85, 6, 365, 344, 142, 23, 101, 8, 1, 1097, 453, 488, 777, 120, 55, 74, 201, 386, 684, 2165, 159, 1402, 307, 232, 233, 697, 464, 56, 350, 233, 148, 4, 115, 8, 76, 75, 677, 981, 379, 767, 4, 109, 315, 363, 159, 5, 15, 547, 54, 153, 185, 1464, 547, 91, 2, 14, 131, 205, 47, 1534, 436, 104, 2329, 45, 228, 978, 128, 1087, 852, 397, 42, 177, 522, 310, 4, 377, 1, 376, 1218, 376, 953, 666, 1, 109, 100, 3, 5, 878, 5, 294, 212, 269, 849, 552, 162, 269, 253, 51, 291, 74, 69, 71, 51, 291, 119, 890, 464, 1484, 1324, 4, 541, 564, 24, 299, 174, 269, 10, 376, 1514, 4532, 6477, 2184, 2598, 138, 513, 239, 89, 33, 745, 376, 659, 279, 407, 210, 1211, 293, 449, 552, 568, 139, 470, 522, 310, 4, 37, 5, 1394, 294, 212, 376, 376, 383, 3581, 1, 2361, 9, 106, 161], [40, 2674, 95, 41, 118, 256, 2468, 41, 2, 40, 200, 2674, 60, 198, 1796, 807, 143, 1, 371, 564, 24, 2270, 1, 2, 444, 265, 256, 9200, 2599, 143, 1420, 1, 9, 6, 10, 674, 2279, 11237, 39, 1111, 2090, 23, 1569, 18, 231, 5356, 4819, 1944, 5, 340, 506, 1015, 23, 33, 7, 4082, 20, 9, 256, 431, 5772, 801, 5480, 1, 15, 12, 847, 736, 1988, 877, 10995, 772, 1, 8655, 187, 787, 3089, 5357, 3, 96, 276, 12, 2674, 317, 545, 25, 246, 1, 59, 110, 23, 1672, 877, 710, 1988, 1148, 5772, 801, 18, 2763, 3506, 1, 120, 5772, 801, 1006, 4, 12, 7, 64, 1, 59, 23, 836, 1044, 9, 12, 256, 866, 374, 1158, 2763, 159, 15, 64, 3582, 2674, 57, 1, 9, 5772, 801], [231, 40, 1130, 88, 52, 1, 1000, 46, 247, 575, 43, 2941, 40, 2, 846, 1, 16, 216, 118, 597, 2, 1430, 55, 282, 55, 144, 74, 240, 436, 361, 271, 1, 82, 479, 1, 132, 26, 164, 4, 1, 950, 757, 15, 98, 363, 562, 70, 33, 26, 15, 271, 29, 1, 58, 38, 98, 9, 112, 396, 33, 1206, 42, 7, 1, 1491, 7, 1, 109, 577, 448, 396, 212, 8466, 516, 355, 11732, 6088, 9597, 11733, 38, 2469, 1, 9, 1545, 1264, 544, 231, 75, 4, 7, 1, 109, 1, 132, 26, 40, 5450, 757, 92, 130, 3938, 39, 190, 4, 396, 2622, 33, 7, 1, 377, 539, 2721, 3939, 1350, 243, 205, 3705, 24, 67, 88, 2221], [125, 727, 30, 1, 11, 98, 217, 99, 3697, 453, 6258, 176, 1629, 118, 79, 168, 296, 1, 5, 467, 24, 2, 41, 12606, 809, 301, 832, 568, 5688, 2417, 8, 1364, 54, 474, 7864, 724, 6578, 3892, 157, 1774, 32, 4233, 14257, 677, 78, 50, 54, 153, 6933, 11, 381, 240, 3284, 902, 30, 79, 3043, 24, 28, 280, 134, 2739, 154, 21, 4113, 1014, 1829, 5, 11, 350, 542, 732, 171, 115, 8, 76, 985, 279, 5222, 1436, 32, 55, 144, 924, 615, 2, 1969, 41, 9, 1, 372, 326, 1261, 64, 98, 25, 11, 134, 2171, 2249, 82, 298, 1462, 574, 5689, 1237, 2190, 139, 1484, 147, 1174, 1, 546, 6053, 104, 4703, 93, 240, 37, 36, 336, 161, 199, 229, 27, 68, 389, 541, 296, 21232, 299, 161, 161, 161, 2102, 383, 389, 1902, 44, 951, 10996, 3777, 81, 21233, 9878, 23627, 649, 3644, 528, 383, 71, 207, 162, 5, 13333, 1419, 50, 7, 195, 528, 942, 1842, 1755, 458, 1611, 3947, 78, 105, 11, 2540, 106, 1375, 138, 7009, 821, 19538, 5161, 558, 238, 39, 162, 25, 156, 1518, 2942, 528, 988, 2623, 210, 105, 427, 430, 150, 598, 832, 657, 90, 765, 548, 170, 3210, 6089, 1343, 537, 14, 50, 25, 1508, 170, 390, 11, 1778, 7, 25, 36, 981, 1540, 4403, 622, 1237], [60, 103, 26, 34, 255, 44, 383, 50, 22, 26, 348, 1400, 175, 44, 442, 103, 36, 27, 75, 383, 50, 1400, 9879, 1275, 3528, 460, 379, 44, 1018, 1066, 1891, 5, 379, 460, 6, 114, 913, 103, 1, 533, 49, 16286, 175, 460, 379, 6, 29, 334, 45, 2125, 1967, 6, 347, 1183, 3959, 1, 1421, 48, 136, 40, 664, 156, 303, 495, 194, 114, 1, 460, 379, 1713, 522, 4575, 1727, 1246, 175, 2, 14, 9598, 27, 76, 22, 516, 243, 60, 103, 250, 26, 9, 430, 186, 1130, 537, 483, 5, 279, 289, 27, 484, 814, 603, 24, 799, 695, 1770, 6720, 1275, 522, 994, 175, 35, 1, 460, 379, 1, 1386, 130, 151, 1511, 1, 293, 300, 516, 2, 14, 343, 25, 2018, 128, 2155, 367, 1511, 832, 19, 5, 26, 204, 624, 289, 339, 1, 26, 94, 379, 61, 1727, 1246, 175, 695, 7942, 4458, 1, 6, 92, 1683, 493, 156, 460, 21, 198, 30, 200, 11, 79, 794, 1075, 329, 1246, 1275, 1, 7, 493, 156, 1238, 3865, 15, 32, 516, 6, 14836, 32, 516, 9, 87, 574, 137, 1, 34, 24, 397, 7, 108, 329, 140, 697, 263, 5358, 1290, 516, 150, 11, 175, 112, 60, 33682, 175, 150], [3682, 51, 913, 103, 893, 484, 814, 24, 799, 85, 344, 127, 6, 22, 130, 95, 51, 454, 83, 57, 45, 262, 1, 396, 1045, 1350, 8, 1, 9, 94, 528, 155, 14, 7, 109, 143, 3905, 3, 72, 192, 46, 45, 2028, 4, 3, 1471, 35, 1, 380, 1167, 234, 2156, 3, 29, 47, 297, 3, 72, 38, 1, 410, 612, 10, 259, 538, 269, 771, 5534, 322, 8, 1, 9, 94, 528, 134, 155, 14, 2324, 780, 195, 793, 662, 223, 378, 162, 38, 1, 9, 2605, 208, 47, 2303, 1374, 2670, 2262, 223, 234, 2884, 45, 378, 162, 953, 98, 1, 907, 38, 241, 271, 66, 1758, 223, 2613, 69, 185, 378, 162, 134, 235, 45, 381, 992, 4, 210, 130, 81, 433, 378, 162, 430, 50, 94, 2934, 521, 3507, 47, 2670, 2262, 223, 32, 8358, 1374, 319, 234, 2884, 167, 3, 3307, 81, 130, 45]]\n",
            "326\n",
            "[[   1   13   18 ...    0    0    0]\n",
            " [ 154  653 1549 ...    0    0    0]\n",
            " [ 894   39   78 ...    0    0    0]\n",
            " ...\n",
            " [3682   51  913 ...    0    0    0]\n",
            " [  40 1193  414 ...    0    0    0]\n",
            " [   4 1483 1999 ...    0    0    0]]\n"
          ],
          "name": "stdout"
        }
      ]
    },
    {
      "cell_type": "markdown",
      "metadata": {
        "id": "tMjpUOLXOxH6",
        "colab_type": "text"
      },
      "source": [
        "# Since max length is 320 I will be Padding it with 320"
      ]
    },
    {
      "cell_type": "markdown",
      "metadata": {
        "id": "qGQahgbOZ-4T",
        "colab_type": "text"
      },
      "source": [
        "Embedding Categorical Data"
      ]
    },
    {
      "cell_type": "code",
      "metadata": {
        "id": "AhVwAu0xcjbP",
        "colab_type": "code",
        "outputId": "dfb07bad-1f18-42db-c04d-9edc081cbfc9",
        "colab": {
          "base_uri": "https://localhost:8080/",
          "height": 208
        }
      },
      "source": [
        "project_data['clean_subcategories'].head(10)"
      ],
      "execution_count": 0,
      "outputs": [
        {
          "output_type": "execute_result",
          "data": {
            "text/plain": [
              "0                       ESL Literacy\n",
              "1       Civics_Government TeamSports\n",
              "2         Health_Wellness TeamSports\n",
              "3               Literacy Mathematics\n",
              "4                        Mathematics\n",
              "5    Literature_Writing SpecialNeeds\n",
              "6              Literacy SpecialNeeds\n",
              "7                        Mathematics\n",
              "8                    Health_Wellness\n",
              "9        Literacy Literature_Writing\n",
              "Name: clean_subcategories, dtype: object"
            ]
          },
          "metadata": {
            "tags": []
          },
          "execution_count": 13
        }
      ]
    },
    {
      "cell_type": "markdown",
      "metadata": {
        "id": "lIgPaeS-qXqR",
        "colab_type": "text"
      },
      "source": [
        "Model 2"
      ]
    },
    {
      "cell_type": "code",
      "metadata": {
        "id": "UG2ABRMa4sJ4",
        "colab_type": "code",
        "outputId": "d0b40ee3-3fd1-4ade-ba66-4b0ad46afd49",
        "colab": {
          "base_uri": "https://localhost:8080/",
          "height": 35
        }
      },
      "source": [
        "len(np.unique(project_data['clean_subcategories']))"
      ],
      "execution_count": 0,
      "outputs": [
        {
          "output_type": "execute_result",
          "data": {
            "text/plain": [
              "401"
            ]
          },
          "metadata": {
            "tags": []
          },
          "execution_count": 28
        }
      ]
    },
    {
      "cell_type": "code",
      "metadata": {
        "id": "_1XjOWXoP51Y",
        "colab_type": "code",
        "colab": {}
      },
      "source": [
        "# prepare tokenizer\n",
        "from keras.preprocessing.text import one_hot\n",
        "def get_encoded_categories(train_category,test_category,cv_category):\n",
        "  input_list_train = []\n",
        "  input_list_val = []\n",
        "  input_list_test = []\n",
        "  raw_vals = np.unique(train_category)\n",
        "  no_of_unique_cat  = len(raw_vals)\n",
        "  print(\" unique values ==>\",no_of_unique_cat)\n",
        "  embedding_size = int(min(np.ceil((no_of_unique_cat)/2), 50 ))\n",
        "  print(\"output dimensions ==>\",embedding_size)\n",
        "\n",
        "  print(len(raw_vals))\n",
        "  val_map = {}\n",
        "  for i in range(len(raw_vals)):\n",
        "      val_map[raw_vals[i]] = i       \n",
        "  input_list_train.append(train_category.map(val_map).values)\n",
        "  print(input_list_train[0:20])\n",
        "  input_list_val.append(cv_category.map(val_map).fillna(0).values)\n",
        "  print(input_list_val[0:20])\n",
        "  input_list_test.append(test_category.map(val_map).fillna(0).values)\n",
        "  print(input_list_test[0:20])\n",
        "  return np.array(input_list_train).reshape(-1,1),np.array(input_list_val).reshape(-1,1),np.array(input_list_test).reshape(-1,1),no_of_unique_cat,embedding_size\n"
      ],
      "execution_count": 0,
      "outputs": []
    },
    {
      "cell_type": "code",
      "metadata": {
        "id": "EWpUXdGvh6pF",
        "colab_type": "code",
        "outputId": "c35d6bfe-3d3e-46b3-bd60-75ce4b8250bd",
        "colab": {
          "base_uri": "https://localhost:8080/",
          "height": 624
        }
      },
      "source": [
        "#https://github.com/mmortazavi/EntityEmbedding-Working_Example/blob/master/EntityEmbedding.ipynb\n",
        "print(\"subcategories\")\n",
        "subcategories_train,subcategories_val,subcategories_test,subcategories_vocab,subcategories_embedding_size = get_encoded_categories(X_train['clean_subcategories'],X_test['clean_subcategories'],X_CV['clean_subcategories'])\n",
        "\n",
        "print(\"categories\")\n",
        "categories_train,categories_val,categories_test,categories_vocab,categories_embedding_size = get_encoded_categories(X_train['clean_categories'],X_test['clean_categories'],X_CV['clean_categories'])\n",
        "\n",
        "print(\"grades\")\n",
        "grades_train,grades_val,grades_test,grades_vocab,grades_embedding_size = get_encoded_categories(X_train['project_grade_category'],X_test['project_grade_category'],X_CV['project_grade_category'])\n",
        "\n",
        "print(\"school\")\n",
        "state_train,state_val,state_test,state_vocab,state_embedding_size = get_encoded_categories(X_train['school_state'],X_test['school_state'],X_CV[\"school_state\"])\n",
        "\n",
        "print(\"teacher\")\n",
        "teacher_train,teacher_val,teacher_test,teacher_vocab,teacher_embedding_size  = get_encoded_categories(X_train['teacher_prefix'],X_test['teacher_prefix'],X_CV['teacher_prefix'])"
      ],
      "execution_count": 0,
      "outputs": [
        {
          "output_type": "stream",
          "text": [
            "subcategories\n",
            " unique values ==> 387\n",
            "output dimensions ==> 50\n",
            "387\n",
            "[array([304, 384,   0, ..., 318, 318, 306])]\n",
            "[array([318., 245., 299., ..., 247., 318., 325.])]\n",
            "[array([294., 122., 378., ...,  17.,  27., 336.])]\n",
            "categories\n",
            " unique values ==> 51\n",
            "output dimensions ==> 26\n",
            "51\n",
            "[array([24, 40, 32, ..., 28, 28, 28])]\n",
            "[array([28,  8, 16, ...,  8, 28, 30])]\n",
            "[array([20, 24, 46, ..., 36, 37, 38])]\n",
            "grades\n",
            " unique values ==> 4\n",
            "output dimensions ==> 2\n",
            "4\n",
            "[array([3, 2, 1, ..., 3, 0, 3])]\n",
            "[array([3, 1, 0, ..., 0, 3, 0])]\n",
            "[array([0, 0, 1, ..., 0, 3, 0])]\n",
            "school\n",
            " unique values ==> 51\n",
            "output dimensions ==> 26\n",
            "51\n",
            "[array([48, 50,  7, ..., 15, 22,  4])]\n",
            "[array([ 4, 31, 25, ..., 27, 14, 31])]\n",
            "[array([ 1, 34, 24, ..., 24,  6, 34])]\n",
            "teacher\n",
            " unique values ==> 6\n",
            "output dimensions ==> 3\n",
            "6\n",
            "[array([2, 2, 3, ..., 3, 2, 2])]\n",
            "[array([3, 1, 2, ..., 2, 3, 2])]\n",
            "[array([3, 2, 3, ..., 2, 2, 3])]\n"
          ],
          "name": "stdout"
        }
      ]
    },
    {
      "cell_type": "code",
      "metadata": {
        "id": "v4Xp3lGfgOai",
        "colab_type": "code",
        "colab": {}
      },
      "source": [
        "from sklearn.preprocessing import StandardScaler\n",
        "price_scalar = StandardScaler()\n",
        "price_scalar.fit(X_train['price'].values.reshape(-1,1))\n",
        "std_price_train = price_scalar.transform(X_train['price'].values.reshape(-1,1))\n",
        "std_price_test = price_scalar.transform(X_test['price'].values.reshape(-1,1))\n",
        "std_price_cv = price_scalar.transform(X_CV['price'].values.reshape(-1,1))\n",
        "no_previously_posted_project = StandardScaler()\n",
        "no_previously_posted_project.fit(X_train['teacher_number_of_previously_posted_projects'].values.reshape(-1,1))\n",
        "std_posted_prj_train = no_previously_posted_project.transform(X_train['teacher_number_of_previously_posted_projects'].values.reshape(-1,1))\n",
        "std_posted_prj_test = no_previously_posted_project.transform(X_test['teacher_number_of_previously_posted_projects'].values.reshape(-1,1))\n",
        "std_posted_prj_cv = no_previously_posted_project.transform(X_CV['teacher_number_of_previously_posted_projects'].values.reshape(-1,1))\n"
      ],
      "execution_count": 0,
      "outputs": []
    },
    {
      "cell_type": "code",
      "metadata": {
        "id": "XtjjxgJK-7pu",
        "colab_type": "code",
        "colab": {}
      },
      "source": [
        "from keras.utils import to_categorical\n",
        "y_true = to_categorical(Y_train.values, num_classes=2)\n",
        "y_test = to_categorical(Y_test.values ,num_classes = 2)\n",
        "y_val = to_categorical(Y_CV.values ,num_classes = 2)"
      ],
      "execution_count": 0,
      "outputs": []
    },
    {
      "cell_type": "code",
      "metadata": {
        "id": "a-EhY_GB-ko1",
        "colab_type": "code",
        "colab": {}
      },
      "source": [
        "rest_of_columns_train = np.hstack((std_price_train,\n",
        "                std_posted_prj_train))\n",
        "rest_of_columns_test = np.hstack((std_price_test,\n",
        "                std_posted_prj_test))\n",
        "rest_of_columns_val = np.hstack((std_price_cv,\n",
        "                std_posted_prj_cv))"
      ],
      "execution_count": 0,
      "outputs": []
    },
    {
      "cell_type": "code",
      "metadata": {
        "id": "-iNJ_79H8zk5",
        "colab_type": "code",
        "colab": {}
      },
      "source": [
        "import tensorflow as tf\n",
        "from sklearn.metrics import roc_auc_score\n",
        "\n",
        "def auroc(y_true, y_pred):\n",
        "    return tf.py_function(roc_auc_score, (y_true, y_pred), tf.double)"
      ],
      "execution_count": 0,
      "outputs": []
    },
    {
      "cell_type": "code",
      "metadata": {
        "id": "1BnYAzmeAf5F",
        "colab_type": "code",
        "outputId": "d273900c-dc3e-4da5-89b8-5a934d58b29b",
        "colab": {
          "base_uri": "https://localhost:8080/",
          "height": 35
        }
      },
      "source": [
        "len(np.array(subcategories_train).reshape(-1,1))\n"
      ],
      "execution_count": 0,
      "outputs": [
        {
          "output_type": "execute_result",
          "data": {
            "text/plain": [
              "69918"
            ]
          },
          "metadata": {
            "tags": []
          },
          "execution_count": 97
        }
      ]
    },
    {
      "cell_type": "code",
      "metadata": {
        "id": "KBpgqot8cqni",
        "colab_type": "code",
        "colab": {}
      },
      "source": [
        "from tensorboardcolab import *\n",
        "tbc=TensorBoardColab()"
      ],
      "execution_count": 0,
      "outputs": []
    },
    {
      "cell_type": "code",
      "metadata": {
        "id": "BmjffSYKttrH",
        "colab_type": "code",
        "outputId": "c3046a7c-0bb6-4e0a-d9c5-95caf55f8c40",
        "colab": {
          "base_uri": "https://localhost:8080/",
          "height": 1000
        }
      },
      "source": [
        "from keras.layers import Dense,Input,LSTM,concatenate,Dropout\n",
        "from keras.models import Model\n",
        "import keras\n",
        "from keras.regularizers import l2\n",
        "\n",
        "import tensorflow as tf\n",
        "from tensorflow.keras.callbacks import TensorBoard\n",
        "from time import time\n",
        "\n",
        "input_shape_1 = Input(shape=(326,),name = 'essay')\n",
        "model_1 = Embedding(Essay_VocabSize, 300, weights= [embedding_matrix],  trainable=False)(input_shape_1)\n",
        "model_1 = LSTM(80,return_sequences=True,kernel_initializer='random_normal',kernel_regularizer=l2(0.01))(model_1)\n",
        "model_1 = Flatten()(model_1)\n",
        "\n",
        "\n",
        "input_shape_2 = Input(shape=(1,),name = 'subcategories')\n",
        "model_2 = Embedding(subcategories_vocab, subcategories_embedding_size)(input_shape_2)\n",
        "model_2 = Flatten()(model_2)\n",
        "\n",
        "\n",
        "input_shape_3 = Input(shape=(1,),name = 'categories')\n",
        "model_3 = Embedding(categories_vocab,categories_embedding_size)(input_shape_3)\n",
        "model_3 = Flatten()(model_3)\n",
        "\n",
        "input_shape_4 = Input(shape=(1,),name = 'grade')\n",
        "model_4 = Embedding(grades_vocab,grades_embedding_size)(input_shape_4)\n",
        "model_4 = Flatten()(model_4)\n",
        "\n",
        "input_shape_5 = Input(shape=(1,),name = 'state')\n",
        "model_5 = Embedding(state_vocab,state_embedding_size)(input_shape_5)\n",
        "model_5 = Flatten()(model_5)\n",
        "\n",
        "input_shape_6 = Input(shape= (1,),name = 'teacher')\n",
        "model_6 = Embedding(teacher_vocab,teacher_embedding_size)(input_shape_6)\n",
        "model_6 = Flatten()(model_6)\n",
        "\n",
        "input_shape_7 = Input(shape=(rest_of_columns_train.shape[1],),name = 'rest')\n",
        "model_7 = Dense(32)(input_shape_7)\n",
        "                                                                  \n",
        "merged = concatenate([model_1,model_2,model_3,model_4,model_5,model_6,model_7])\n",
        "Dense_1 = Dense(80,activation ='relu',kernel_initializer='he_normal',kernel_regularizer=l2(0.01))(merged)\n",
        "Dense_1 = Dropout(0.1)(Dense_1)                \n",
        " \n",
        "Dense_2 = Dense(64,activation ='relu')(Dense_1)\n",
        "Dense_2 = Dropout(0.6)(Dense_2)  \n",
        "                                                                  \n",
        "Dense_3 = Dense(32,activation ='relu')(Dense_2)\n",
        "Dense_3 = Dropout(0.8)(Dense_3) \n",
        "                                                                  \n",
        "out = Dense(2, activation= 'softmax',name='output_layer')(Dense_3)\n",
        "model = Model(inputs = [input_shape_1,input_shape_2,input_shape_3,input_shape_4,input_shape_5,input_shape_6,input_shape_7],outputs=[out])\n",
        "rms = keras.optimizers.RMSprop(lr=0.001, rho=0.9, epsilon=None, decay=0.0)\n",
        "model.compile(optimizer=rms, loss='categorical_crossentropy',metrics=['mae', 'acc',auroc])\n",
        "model.summary()\n",
        "\n",
        "history = model.fit({\n",
        "            'essay': np.array(padded_docs_train),\n",
        "            'subcategories': np.array(subcategories_train),\n",
        "            'categories': np.array(categories_train),\n",
        "            'grade': np.array(grades_train),\n",
        "            'state': np.array(state_train),\n",
        "            'teacher':np.array(teacher_train),\n",
        "            'rest': np.array(rest_of_columns_train)},\n",
        "             {'output_layer': y_true}, \n",
        "    validation_data=({\n",
        "            'essay': np.array(padded_docs_cv),\n",
        "            'subcategories': np.array(subcategories_val),\n",
        "            'categories': np.array(categories_val),\n",
        "            'grade': np.array(grades_val),\n",
        "            'state': np.array(state_val),\n",
        "            'teacher':np.array(teacher_val),\n",
        "            'rest': np.array(rest_of_columns_val)}, {'output_layer': y_val}),\n",
        "             epochs=40, batch_size=500,callbacks=[TensorBoardColabCallback(tbc)])"
      ],
      "execution_count": 0,
      "outputs": [
        {
          "output_type": "stream",
          "text": [
            "W0730 06:05:32.295962 139869623433088 deprecation.py:506] From /usr/local/lib/python3.6/dist-packages/keras/backend/tensorflow_backend.py:3445: calling dropout (from tensorflow.python.ops.nn_ops) with keep_prob is deprecated and will be removed in a future version.\n",
            "Instructions for updating:\n",
            "Please use `rate` instead of `keep_prob`. Rate should be set to `rate = 1 - keep_prob`.\n",
            "W0730 06:05:32.333901 139869623433088 nn_ops.py:4224] Large dropout rate: 0.6 (>0.5). In TensorFlow 2.x, dropout() uses dropout rate instead of keep_prob. Please ensure that this is intended.\n",
            "W0730 06:05:32.370280 139869623433088 nn_ops.py:4224] Large dropout rate: 0.8 (>0.5). In TensorFlow 2.x, dropout() uses dropout rate instead of keep_prob. Please ensure that this is intended.\n",
            "W0730 06:05:32.414386 139869623433088 deprecation_wrapper.py:119] From /usr/local/lib/python3.6/dist-packages/keras/optimizers.py:790: The name tf.train.Optimizer is deprecated. Please use tf.compat.v1.train.Optimizer instead.\n",
            "\n"
          ],
          "name": "stderr"
        },
        {
          "output_type": "stream",
          "text": [
            "__________________________________________________________________________________________________\n",
            "Layer (type)                    Output Shape         Param #     Connected to                     \n",
            "==================================================================================================\n",
            "essay (InputLayer)              (None, 326)          0                                            \n",
            "__________________________________________________________________________________________________\n",
            "embedding_2 (Embedding)         (None, 326, 300)     16403400    essay[0][0]                      \n",
            "__________________________________________________________________________________________________\n",
            "subcategories (InputLayer)      (None, 1)            0                                            \n",
            "__________________________________________________________________________________________________\n",
            "categories (InputLayer)         (None, 1)            0                                            \n",
            "__________________________________________________________________________________________________\n",
            "grade (InputLayer)              (None, 1)            0                                            \n",
            "__________________________________________________________________________________________________\n",
            "state (InputLayer)              (None, 1)            0                                            \n",
            "__________________________________________________________________________________________________\n",
            "teacher (InputLayer)            (None, 1)            0                                            \n",
            "__________________________________________________________________________________________________\n",
            "lstm_1 (LSTM)                   (None, 326, 80)      121920      embedding_2[0][0]                \n",
            "__________________________________________________________________________________________________\n",
            "embedding_3 (Embedding)         (None, 1, 50)        19350       subcategories[0][0]              \n",
            "__________________________________________________________________________________________________\n",
            "embedding_4 (Embedding)         (None, 1, 26)        1326        categories[0][0]                 \n",
            "__________________________________________________________________________________________________\n",
            "embedding_5 (Embedding)         (None, 1, 2)         8           grade[0][0]                      \n",
            "__________________________________________________________________________________________________\n",
            "embedding_6 (Embedding)         (None, 1, 26)        1326        state[0][0]                      \n",
            "__________________________________________________________________________________________________\n",
            "embedding_7 (Embedding)         (None, 1, 3)         18          teacher[0][0]                    \n",
            "__________________________________________________________________________________________________\n",
            "rest (InputLayer)               (None, 2)            0                                            \n",
            "__________________________________________________________________________________________________\n",
            "flatten_1 (Flatten)             (None, 26080)        0           lstm_1[0][0]                     \n",
            "__________________________________________________________________________________________________\n",
            "flatten_2 (Flatten)             (None, 50)           0           embedding_3[0][0]                \n",
            "__________________________________________________________________________________________________\n",
            "flatten_3 (Flatten)             (None, 26)           0           embedding_4[0][0]                \n",
            "__________________________________________________________________________________________________\n",
            "flatten_4 (Flatten)             (None, 2)            0           embedding_5[0][0]                \n",
            "__________________________________________________________________________________________________\n",
            "flatten_5 (Flatten)             (None, 26)           0           embedding_6[0][0]                \n",
            "__________________________________________________________________________________________________\n",
            "flatten_6 (Flatten)             (None, 3)            0           embedding_7[0][0]                \n",
            "__________________________________________________________________________________________________\n",
            "dense_1 (Dense)                 (None, 32)           96          rest[0][0]                       \n",
            "__________________________________________________________________________________________________\n",
            "concatenate_1 (Concatenate)     (None, 26219)        0           flatten_1[0][0]                  \n",
            "                                                                 flatten_2[0][0]                  \n",
            "                                                                 flatten_3[0][0]                  \n",
            "                                                                 flatten_4[0][0]                  \n",
            "                                                                 flatten_5[0][0]                  \n",
            "                                                                 flatten_6[0][0]                  \n",
            "                                                                 dense_1[0][0]                    \n",
            "__________________________________________________________________________________________________\n",
            "dense_2 (Dense)                 (None, 80)           2097600     concatenate_1[0][0]              \n",
            "__________________________________________________________________________________________________\n",
            "dropout_1 (Dropout)             (None, 80)           0           dense_2[0][0]                    \n",
            "__________________________________________________________________________________________________\n",
            "dense_3 (Dense)                 (None, 64)           5184        dropout_1[0][0]                  \n",
            "__________________________________________________________________________________________________\n",
            "dropout_2 (Dropout)             (None, 64)           0           dense_3[0][0]                    \n",
            "__________________________________________________________________________________________________\n",
            "dense_4 (Dense)                 (None, 32)           2080        dropout_2[0][0]                  \n",
            "__________________________________________________________________________________________________\n",
            "dropout_3 (Dropout)             (None, 32)           0           dense_4[0][0]                    \n",
            "__________________________________________________________________________________________________\n",
            "output_layer (Dense)            (None, 2)            66          dropout_3[0][0]                  \n",
            "==================================================================================================\n",
            "Total params: 18,652,374\n",
            "Trainable params: 2,248,974\n",
            "Non-trainable params: 16,403,400\n",
            "__________________________________________________________________________________________________\n"
          ],
          "name": "stdout"
        },
        {
          "output_type": "stream",
          "text": [
            "W0730 06:05:34.851765 139869623433088 deprecation.py:323] From /usr/local/lib/python3.6/dist-packages/tensorflow/python/ops/math_grad.py:1250: add_dispatch_support.<locals>.wrapper (from tensorflow.python.ops.array_ops) is deprecated and will be removed in a future version.\n",
            "Instructions for updating:\n",
            "Use tf.where in 2.0, which has the same broadcast rule as np.where\n",
            "W0730 06:05:36.599769 139869623433088 deprecation_wrapper.py:119] From /usr/local/lib/python3.6/dist-packages/tensorboardcolab/core.py:49: The name tf.summary.FileWriter is deprecated. Please use tf.compat.v1.summary.FileWriter instead.\n",
            "\n"
          ],
          "name": "stderr"
        },
        {
          "output_type": "stream",
          "text": [
            "Train on 68825 samples, validate on 7648 samples\n"
          ],
          "name": "stdout"
        },
        {
          "output_type": "stream",
          "text": [
            "W0730 06:05:36.890585 139869623433088 deprecation_wrapper.py:119] From /usr/local/lib/python3.6/dist-packages/keras/callbacks.py:850: The name tf.summary.merge_all is deprecated. Please use tf.compat.v1.summary.merge_all instead.\n",
            "\n"
          ],
          "name": "stderr"
        },
        {
          "output_type": "stream",
          "text": [
            "Epoch 1/40\n",
            "68825/68825 [==============================] - 88s 1ms/step - loss: 1.1496 - mean_absolute_error: 0.3408 - acc: 0.8032 - auroc: 0.5428 - val_loss: 0.4723 - val_mean_absolute_error: 0.2791 - val_acc: 0.8584 - val_auroc: 0.6971\n",
            "Epoch 2/40\n",
            "68825/68825 [==============================] - 86s 1ms/step - loss: 0.5062 - mean_absolute_error: 0.2849 - acc: 0.8479 - auroc: 0.5857 - val_loss: 0.4360 - val_mean_absolute_error: 0.2727 - val_acc: 0.8584 - val_auroc: 0.7001\n",
            "Epoch 3/40\n",
            "68825/68825 [==============================] - 86s 1ms/step - loss: 0.4684 - mean_absolute_error: 0.2719 - acc: 0.8481 - auroc: 0.6111 - val_loss: 0.4261 - val_mean_absolute_error: 0.2608 - val_acc: 0.8584 - val_auroc: 0.7014\n",
            "Epoch 4/40\n",
            "68825/68825 [==============================] - 87s 1ms/step - loss: 0.4570 - mean_absolute_error: 0.2648 - acc: 0.8482 - auroc: 0.6282 - val_loss: 0.4122 - val_mean_absolute_error: 0.2627 - val_acc: 0.8584 - val_auroc: 0.7099\n",
            "Epoch 5/40\n",
            "68825/68825 [==============================] - 86s 1ms/step - loss: 0.4423 - mean_absolute_error: 0.2605 - acc: 0.8481 - auroc: 0.6492 - val_loss: 0.4088 - val_mean_absolute_error: 0.2601 - val_acc: 0.8584 - val_auroc: 0.7082\n",
            "Epoch 6/40\n",
            "68825/68825 [==============================] - 86s 1ms/step - loss: 0.4344 - mean_absolute_error: 0.2556 - acc: 0.8480 - auroc: 0.6641 - val_loss: 0.3917 - val_mean_absolute_error: 0.2294 - val_acc: 0.8584 - val_auroc: 0.7216\n",
            "Epoch 7/40\n",
            "68825/68825 [==============================] - 87s 1ms/step - loss: 0.4294 - mean_absolute_error: 0.2516 - acc: 0.8478 - auroc: 0.6738 - val_loss: 0.4054 - val_mean_absolute_error: 0.2652 - val_acc: 0.8584 - val_auroc: 0.7210\n",
            "Epoch 8/40\n",
            "68825/68825 [==============================] - 86s 1ms/step - loss: 0.4242 - mean_absolute_error: 0.2488 - acc: 0.8478 - auroc: 0.6877 - val_loss: 0.4036 - val_mean_absolute_error: 0.2590 - val_acc: 0.8584 - val_auroc: 0.7297\n",
            "Epoch 9/40\n",
            "68825/68825 [==============================] - 86s 1ms/step - loss: 0.4216 - mean_absolute_error: 0.2473 - acc: 0.8480 - auroc: 0.6905 - val_loss: 0.3993 - val_mean_absolute_error: 0.2583 - val_acc: 0.8584 - val_auroc: 0.7359\n",
            "Epoch 10/40\n",
            "68825/68825 [==============================] - 86s 1ms/step - loss: 0.4179 - mean_absolute_error: 0.2453 - acc: 0.8477 - auroc: 0.6987 - val_loss: 0.3871 - val_mean_absolute_error: 0.2337 - val_acc: 0.8584 - val_auroc: 0.7314\n",
            "Epoch 11/40\n",
            "68825/68825 [==============================] - 87s 1ms/step - loss: 0.4179 - mean_absolute_error: 0.2438 - acc: 0.8470 - auroc: 0.6966 - val_loss: 0.3863 - val_mean_absolute_error: 0.2361 - val_acc: 0.8584 - val_auroc: 0.7363\n",
            "Epoch 12/40\n",
            "68825/68825 [==============================] - 86s 1ms/step - loss: 0.4159 - mean_absolute_error: 0.2431 - acc: 0.8474 - auroc: 0.7054 - val_loss: 0.3837 - val_mean_absolute_error: 0.2120 - val_acc: 0.8584 - val_auroc: 0.7367\n",
            "Epoch 13/40\n",
            "68825/68825 [==============================] - 86s 1ms/step - loss: 0.4138 - mean_absolute_error: 0.2419 - acc: 0.8477 - auroc: 0.7048 - val_loss: 0.3784 - val_mean_absolute_error: 0.2075 - val_acc: 0.8584 - val_auroc: 0.7438\n",
            "Epoch 14/40\n",
            "68825/68825 [==============================] - 87s 1ms/step - loss: 0.4120 - mean_absolute_error: 0.2401 - acc: 0.8478 - auroc: 0.7076 - val_loss: 0.3851 - val_mean_absolute_error: 0.2007 - val_acc: 0.8584 - val_auroc: 0.7440\n",
            "Epoch 15/40\n",
            "68825/68825 [==============================] - 86s 1ms/step - loss: 0.4126 - mean_absolute_error: 0.2408 - acc: 0.8473 - auroc: 0.7100 - val_loss: 0.3820 - val_mean_absolute_error: 0.2251 - val_acc: 0.8584 - val_auroc: 0.7406\n",
            "Epoch 16/40\n",
            "68825/68825 [==============================] - 86s 1ms/step - loss: 0.4114 - mean_absolute_error: 0.2408 - acc: 0.8476 - auroc: 0.7100 - val_loss: 0.3850 - val_mean_absolute_error: 0.2372 - val_acc: 0.8584 - val_auroc: 0.7428\n",
            "Epoch 17/40\n",
            "68825/68825 [==============================] - 86s 1ms/step - loss: 0.4100 - mean_absolute_error: 0.2392 - acc: 0.8468 - auroc: 0.7108 - val_loss: 0.3853 - val_mean_absolute_error: 0.2301 - val_acc: 0.8584 - val_auroc: 0.7414\n",
            "Epoch 18/40\n",
            "68825/68825 [==============================] - 87s 1ms/step - loss: 0.4084 - mean_absolute_error: 0.2394 - acc: 0.8475 - auroc: 0.7173 - val_loss: 0.4102 - val_mean_absolute_error: 0.2028 - val_acc: 0.8584 - val_auroc: 0.7372\n",
            "Epoch 19/40\n",
            "68825/68825 [==============================] - 86s 1ms/step - loss: 0.4085 - mean_absolute_error: 0.2387 - acc: 0.8477 - auroc: 0.7157 - val_loss: 0.3998 - val_mean_absolute_error: 0.2138 - val_acc: 0.8584 - val_auroc: 0.7306\n",
            "Epoch 20/40\n",
            "68825/68825 [==============================] - 86s 1ms/step - loss: 0.4084 - mean_absolute_error: 0.2378 - acc: 0.8475 - auroc: 0.7171 - val_loss: 0.3906 - val_mean_absolute_error: 0.2346 - val_acc: 0.8584 - val_auroc: 0.7355\n",
            "Epoch 21/40\n",
            "68825/68825 [==============================] - 86s 1ms/step - loss: 0.4054 - mean_absolute_error: 0.2370 - acc: 0.8481 - auroc: 0.7205 - val_loss: 0.3795 - val_mean_absolute_error: 0.2228 - val_acc: 0.8584 - val_auroc: 0.7481\n",
            "Epoch 22/40\n",
            "68825/68825 [==============================] - 87s 1ms/step - loss: 0.4058 - mean_absolute_error: 0.2367 - acc: 0.8473 - auroc: 0.7219 - val_loss: 0.3868 - val_mean_absolute_error: 0.2506 - val_acc: 0.8584 - val_auroc: 0.7452\n",
            "Epoch 23/40\n",
            "68825/68825 [==============================] - 86s 1ms/step - loss: 0.4054 - mean_absolute_error: 0.2373 - acc: 0.8475 - auroc: 0.7220 - val_loss: 0.3851 - val_mean_absolute_error: 0.2172 - val_acc: 0.8584 - val_auroc: 0.7420\n",
            "Epoch 24/40\n",
            "68825/68825 [==============================] - 86s 1ms/step - loss: 0.4058 - mean_absolute_error: 0.2367 - acc: 0.8476 - auroc: 0.7189 - val_loss: 0.3777 - val_mean_absolute_error: 0.2284 - val_acc: 0.8584 - val_auroc: 0.7486\n",
            "Epoch 25/40\n",
            "68825/68825 [==============================] - 87s 1ms/step - loss: 0.4044 - mean_absolute_error: 0.2360 - acc: 0.8480 - auroc: 0.7243 - val_loss: 0.3813 - val_mean_absolute_error: 0.2147 - val_acc: 0.8584 - val_auroc: 0.7327\n",
            "Epoch 26/40\n",
            "68825/68825 [==============================] - 86s 1ms/step - loss: 0.4046 - mean_absolute_error: 0.2361 - acc: 0.8477 - auroc: 0.7226 - val_loss: 0.3762 - val_mean_absolute_error: 0.2388 - val_acc: 0.8584 - val_auroc: 0.7537\n",
            "Epoch 27/40\n",
            "68825/68825 [==============================] - 86s 1ms/step - loss: 0.4042 - mean_absolute_error: 0.2355 - acc: 0.8480 - auroc: 0.7242 - val_loss: 0.3810 - val_mean_absolute_error: 0.2196 - val_acc: 0.8584 - val_auroc: 0.7484\n",
            "Epoch 28/40\n",
            "68825/68825 [==============================] - 86s 1ms/step - loss: 0.4037 - mean_absolute_error: 0.2357 - acc: 0.8474 - auroc: 0.7263 - val_loss: 0.3704 - val_mean_absolute_error: 0.2172 - val_acc: 0.8584 - val_auroc: 0.7545\n",
            "Epoch 29/40\n",
            "68825/68825 [==============================] - 87s 1ms/step - loss: 0.4027 - mean_absolute_error: 0.2344 - acc: 0.8480 - auroc: 0.7267 - val_loss: 0.3914 - val_mean_absolute_error: 0.2565 - val_acc: 0.8584 - val_auroc: 0.7506\n",
            "Epoch 30/40\n",
            "68825/68825 [==============================] - 86s 1ms/step - loss: 0.4012 - mean_absolute_error: 0.2336 - acc: 0.8481 - auroc: 0.7291 - val_loss: 0.3781 - val_mean_absolute_error: 0.2420 - val_acc: 0.8584 - val_auroc: 0.7550\n",
            "Epoch 31/40\n",
            "68825/68825 [==============================] - 86s 1ms/step - loss: 0.4023 - mean_absolute_error: 0.2342 - acc: 0.8476 - auroc: 0.7275 - val_loss: 0.3819 - val_mean_absolute_error: 0.2186 - val_acc: 0.8584 - val_auroc: 0.7486\n",
            "Epoch 32/40\n",
            "68825/68825 [==============================] - 87s 1ms/step - loss: 0.4020 - mean_absolute_error: 0.2337 - acc: 0.8474 - auroc: 0.7280 - val_loss: 0.3778 - val_mean_absolute_error: 0.2383 - val_acc: 0.8584 - val_auroc: 0.7523\n",
            "Epoch 33/40\n",
            "68825/68825 [==============================] - 87s 1ms/step - loss: 0.4017 - mean_absolute_error: 0.2338 - acc: 0.8477 - auroc: 0.7289 - val_loss: 0.3798 - val_mean_absolute_error: 0.2397 - val_acc: 0.8584 - val_auroc: 0.7506\n",
            "Epoch 34/40\n",
            "68825/68825 [==============================] - 86s 1ms/step - loss: 0.4015 - mean_absolute_error: 0.2341 - acc: 0.8476 - auroc: 0.7298 - val_loss: 0.3765 - val_mean_absolute_error: 0.1996 - val_acc: 0.8584 - val_auroc: 0.7527\n",
            "Epoch 35/40\n",
            "68825/68825 [==============================] - 86s 1ms/step - loss: 0.4002 - mean_absolute_error: 0.2330 - acc: 0.8477 - auroc: 0.7315 - val_loss: 0.3724 - val_mean_absolute_error: 0.2092 - val_acc: 0.8584 - val_auroc: 0.7498\n",
            "Epoch 36/40\n",
            "68825/68825 [==============================] - 87s 1ms/step - loss: 0.4016 - mean_absolute_error: 0.2341 - acc: 0.8478 - auroc: 0.7282 - val_loss: 0.3733 - val_mean_absolute_error: 0.2276 - val_acc: 0.8583 - val_auroc: 0.7568\n",
            "Epoch 37/40\n",
            "68825/68825 [==============================] - 86s 1ms/step - loss: 0.4020 - mean_absolute_error: 0.2336 - acc: 0.8477 - auroc: 0.7286 - val_loss: 0.3780 - val_mean_absolute_error: 0.2277 - val_acc: 0.8584 - val_auroc: 0.7461\n",
            "Epoch 38/40\n",
            "68825/68825 [==============================] - 86s 1ms/step - loss: 0.4006 - mean_absolute_error: 0.2334 - acc: 0.8478 - auroc: 0.7315 - val_loss: 0.3741 - val_mean_absolute_error: 0.2303 - val_acc: 0.8584 - val_auroc: 0.7543\n",
            "Epoch 39/40\n",
            "68825/68825 [==============================] - 86s 1ms/step - loss: 0.4017 - mean_absolute_error: 0.2343 - acc: 0.8476 - auroc: 0.7293 - val_loss: 0.3729 - val_mean_absolute_error: 0.2064 - val_acc: 0.8584 - val_auroc: 0.7544\n",
            "Epoch 40/40\n",
            "68825/68825 [==============================] - 87s 1ms/step - loss: 0.4018 - mean_absolute_error: 0.2333 - acc: 0.8480 - auroc: 0.7301 - val_loss: 0.3870 - val_mean_absolute_error: 0.2490 - val_acc: 0.8584 - val_auroc: 0.7487\n"
          ],
          "name": "stdout"
        }
      ]
    },
    {
      "cell_type": "code",
      "metadata": {
        "id": "LIQ_cA4ID3-s",
        "colab_type": "code",
        "outputId": "b1fc47bd-b87e-463c-b285-1a408e0083e4",
        "colab": {
          "base_uri": "https://localhost:8080/",
          "height": 35
        }
      },
      "source": [
        "results = model.evaluate({\n",
        "            'essay': np.array(padded_docs_test),\n",
        "            'subcategories': np.array(subcategories_test),\n",
        "            'categories': np.array(categories_test),\n",
        "            'grade': np.array(grades_test),\n",
        "            'state': np.array(state_test),\n",
        "            'teacher':np.array(teacher_test),\n",
        "            'rest': np.array(rest_of_columns_test)},\n",
        "             {'output_layer': y_test} ,batch_size=128)"
      ],
      "execution_count": 0,
      "outputs": [
        {
          "output_type": "stream",
          "text": [
            "32775/32775 [==============================] - 75s 2ms/step\n"
          ],
          "name": "stdout"
        }
      ]
    },
    {
      "cell_type": "code",
      "metadata": {
        "id": "YtT8NKhGUil9",
        "colab_type": "code",
        "outputId": "f90a368d-d053-463c-cbfd-53a159449d32",
        "colab": {
          "base_uri": "https://localhost:8080/",
          "height": 87
        }
      },
      "source": [
        "print(\"loss : \",results[0] )\n",
        "print(\"Mean absolute Error  : \",results[1] )\n",
        "print(\"Accuracy  : \",results[2] )\n",
        "print(\"Auroc  : \",results[3] )"
      ],
      "execution_count": 0,
      "outputs": [
        {
          "output_type": "stream",
          "text": [
            "loss :  0.40344786101493285\n",
            "Mean absolute Error  :  0.25580012450320044\n",
            "Accuracy  :  0.8472311212851017\n",
            "Auroc  :  0.7399028198988776\n"
          ],
          "name": "stdout"
        }
      ]
    },
    {
      "cell_type": "code",
      "metadata": {
        "id": "LDhRUVHVkxEi",
        "colab_type": "code",
        "outputId": "aec97750-c6b7-4fc1-ec8d-0f9e704c6972",
        "colab": {
          "base_uri": "https://localhost:8080/",
          "height": 295
        }
      },
      "source": [
        "# summarize history for accuracy\n",
        "plt.plot(history.history['loss'])\n",
        "plt.plot(history.history['val_loss'])\n",
        "plt.title('loss')\n",
        "plt.ylabel('loss')\n",
        "plt.xlabel('epoch')\n",
        "plt.legend(['train', 'val'], loc='upper right')\n",
        "plt.show()"
      ],
      "execution_count": 0,
      "outputs": [
        {
          "output_type": "display_data",
          "data": {
            "image/png": "[encoded data removed]",
            "text/plain": [
              "<Figure size 432x288 with 1 Axes>"
            ]
          },
          "metadata": {
            "tags": []
          }
        }
      ]
    },
    {
      "cell_type": "code",
      "metadata": {
        "id": "ywoqfYeMLufA",
        "colab_type": "code",
        "outputId": "6a8f7594-8938-41a2-f506-27439834272c",
        "colab": {
          "base_uri": "https://localhost:8080/",
          "height": 295
        }
      },
      "source": [
        "plt.plot(history.history['mean_absolute_error'])\n",
        "plt.plot(history.history['val_mean_absolute_error'])\n",
        "plt.title('MAE')\n",
        "plt.ylabel('MAE')\n",
        "plt.xlabel('epoch')\n",
        "plt.legend(['train', 'val'], loc='upper right')\n",
        "plt.show()"
      ],
      "execution_count": 0,
      "outputs": [
        {
          "output_type": "display_data",
          "data": {
            "image/png": "[encoded data removed]",
            "text/plain": [
              "<Figure size 432x288 with 1 Axes>"
            ]
          },
          "metadata": {
            "tags": []
          }
        }
      ]
    },
    {
      "cell_type": "code",
      "metadata": {
        "id": "zljW5upwqt38",
        "colab_type": "code",
        "outputId": "bfb98599-3cf6-41da-8764-c327e90e5df7",
        "colab": {
          "base_uri": "https://localhost:8080/",
          "height": 295
        }
      },
      "source": [
        "plt.plot(history.history['auroc'])\n",
        "plt.plot(history.history['val_auroc'])\n",
        "plt.title('auroc')\n",
        "plt.ylabel('auroc')\n",
        "plt.xlabel('epoch')\n",
        "plt.legend(['train', 'val'], loc='upper right')\n",
        "plt.show()"
      ],
      "execution_count": 0,
      "outputs": [
        {
          "output_type": "display_data",
          "data": {
            "image/png": "[encoded data removed]",
            "text/plain": [
              "<Figure size 432x288 with 1 Axes>"
            ]
          },
          "metadata": {
            "tags": []
          }
        }
      ]
    },
    {
      "cell_type": "markdown",
      "metadata": {
        "id": "QeiCGngVi-BA",
        "colab_type": "text"
      },
      "source": [
        "#Feature Extraction"
      ]
    },
    {
      "cell_type": "code",
      "metadata": {
        "id": "fyBjRUXCHis6",
        "colab_type": "code",
        "colab": {}
      },
      "source": [
        "from sklearn.feature_extraction.text import TfidfVectorizer\n",
        "vectorizer = TfidfVectorizer()\n",
        "X = vectorizer.fit_transform(X_train['essay'])"
      ],
      "execution_count": 0,
      "outputs": []
    },
    {
      "cell_type": "code",
      "metadata": {
        "id": "t-e4nUqerE18",
        "colab_type": "code",
        "outputId": "4ec57ea4-a618-4076-e4ab-79729e966d28",
        "colab": {
          "base_uri": "https://localhost:8080/",
          "height": 52
        }
      },
      "source": [
        "vectorizer.idf_"
      ],
      "execution_count": 0,
      "outputs": [
        {
          "output_type": "execute_result",
          "data": {
            "text/plain": [
              "array([ 7.27351794,  5.88479934, 11.21509975, ..., 11.21509975,\n",
              "       11.21509975, 10.80963464])"
            ]
          },
          "metadata": {
            "tags": []
          },
          "execution_count": 111
        }
      ]
    },
    {
      "cell_type": "code",
      "metadata": {
        "id": "a1kARXhjrXc2",
        "colab_type": "code",
        "outputId": "34cb65ad-7341-41c5-fad0-edbecab0c31a",
        "colab": {
          "base_uri": "https://localhost:8080/",
          "height": 287
        }
      },
      "source": [
        "import seaborn as sns\n",
        "sns.distplot(vectorizer.idf_)"
      ],
      "execution_count": 0,
      "outputs": [
        {
          "output_type": "execute_result",
          "data": {
            "text/plain": [
              "<matplotlib.axes._subplots.AxesSubplot at 0x7fea58459278>"
            ]
          },
          "metadata": {
            "tags": []
          },
          "execution_count": 29
        },
        {
          "output_type": "display_data",
          "data": {
            "image/png": "[encoded data removed]",
            "text/plain": [
              "<Figure size 432x288 with 1 Axes>"
            ]
          },
          "metadata": {
            "tags": []
          }
        }
      ]
    },
    {
      "cell_type": "code",
      "metadata": {
        "id": "DbbbjBsMp0lv",
        "colab_type": "code",
        "outputId": "944bb4ac-0cb0-4234-e8b8-b0800e0aac91",
        "colab": {
          "base_uri": "https://localhost:8080/",
          "height": 273
        }
      },
      "source": [
        "sns.boxplot(x = vectorizer.idf_,orient ='v')"
      ],
      "execution_count": 0,
      "outputs": [
        {
          "output_type": "execute_result",
          "data": {
            "text/plain": [
              "<matplotlib.axes._subplots.AxesSubplot at 0x7fe9fb3501d0>"
            ]
          },
          "metadata": {
            "tags": []
          },
          "execution_count": 30
        },
        {
          "output_type": "display_data",
          "data": {
            "image/png": "[encoded data removed]",
            "text/plain": [
              "<Figure size 432x288 with 1 Axes>"
            ]
          },
          "metadata": {
            "tags": []
          }
        }
      ]
    },
    {
      "cell_type": "markdown",
      "metadata": {
        "id": "GXJKCRhNbHlV",
        "colab_type": "text"
      },
      "source": [
        "# Choosing words with IDF values between 4 and 11.5"
      ]
    },
    {
      "cell_type": "code",
      "metadata": {
        "id": "tMgPcy3W1Pxj",
        "colab_type": "code",
        "colab": {}
      },
      "source": [
        "IDF = vectorizer.idf_\n",
        "dis_Arg = np.append(np.argwhere((IDF < 4)),np.argwhere(IDF > 11.5))\n",
        "words =np.array(vectorizer.get_feature_names())\n",
        "dis_words = tuple(words[dis_Arg])\n",
        "X_train_red  = []\n",
        "for sent in X_train['essay'].values :\n",
        "  temp = []\n",
        "  for word in sent.split():    \n",
        "    if word not in dis_words :\n",
        "      temp.append(word)\n",
        "  X_train_red.append( \" \".join(temp))"
      ],
      "execution_count": 0,
      "outputs": []
    },
    {
      "cell_type": "code",
      "metadata": {
        "id": "QjFHwVYmAjGZ",
        "colab_type": "code",
        "outputId": "b83e3ad3-3be9-421b-e84a-a7fe14423e15",
        "colab": {
          "base_uri": "https://localhost:8080/",
          "height": 35
        }
      },
      "source": [
        "len(dis_Arg)"
      ],
      "execution_count": 0,
      "outputs": [
        {
          "output_type": "execute_result",
          "data": {
            "text/plain": [
              "25467"
            ]
          },
          "metadata": {
            "tags": []
          },
          "execution_count": 88
        }
      ]
    },
    {
      "cell_type": "code",
      "metadata": {
        "id": "kDTnLvbb34-O",
        "colab_type": "code",
        "outputId": "7de01b8f-ee63-4aeb-8856-eb096afe3a29",
        "colab": {
          "base_uri": "https://localhost:8080/",
          "height": 193
        }
      },
      "source": [
        "from numpy import array\n",
        "from numpy import asarray\n",
        "from numpy import zeros\n",
        "from keras.preprocessing.text import Tokenizer\n",
        "from keras.preprocessing.sequence import pad_sequences\n",
        "from keras.models import Sequential\n",
        "from keras.layers import Dense,Input,LSTM,Concatenate\n",
        "from keras.layers import Flatten\n",
        "from keras.layers import Embedding\n",
        "\n",
        "# prepare tokenizer\n",
        "t = Tokenizer()\n",
        "t.fit_on_texts(X_train_red)\n",
        "Essay_VocabSize_red = len(t.word_index) + 1\n",
        "# integer encode the documents\n",
        "encoded_docs_train_red = t.texts_to_sequences(X_train_red)\n",
        "encoded_docs_test_red = t.texts_to_sequences(X_test['essay'])\n",
        "encoded_docs_val_red = t.texts_to_sequences(X_CV['essay'])\n",
        "print(encoded_docs_train_red[0:10])\n",
        "\n",
        "max_length_essay_red = max([len(a) for a in encoded_docs_train_red])\n",
        "\n",
        "# create a weight matrix for words in training docs\n",
        "embedding_matrix_red = zeros((Essay_VocabSize_red, 300),dtype = np.float16)\n",
        "for word, i in t.word_index.items() :\n",
        "  if word in model1 :\n",
        "    embedding_vector_red = model1[word] \n",
        "  else :\n",
        "    embedding_vector_red = zeros(300)\n",
        "  embedding_matrix_red[i] = embedding_vector_red\n",
        "print(max_length_essay_red)\n",
        "padded_docs_train_red = pad_sequences(encoded_docs_train_red, maxlen=max_length_essay_red, padding='post')\n",
        "padded_docs_test_red = pad_sequences(encoded_docs_test_red, maxlen=max_length_essay_red, padding='post')\n",
        "padded_docs_val_red = pad_sequences(encoded_docs_val_red, maxlen=max_length_essay_red, padding='post')\n",
        "print(padded_docs_train_red[0:12])"
      ],
      "execution_count": 0,
      "outputs": [
        {
          "output_type": "stream",
          "text": [
            "[[438, 1214, 2594, 2227, 5, 46, 2256, 243, 1922, 13, 1796, 645, 1796, 1624, 4984, 1064, 1222, 9972, 820, 525, 62, 89, 5, 85, 1806, 5, 13, 48, 13, 251, 509, 2535, 3834, 2208, 1464, 847, 251, 509, 3409, 2853], [223, 1119, 461, 2206, 12902, 2443, 687, 10, 511, 1528, 1277, 2206, 154, 262, 262, 2577, 1664, 379, 1716, 235, 1425, 1075, 1784, 2966, 2980, 6745, 171, 925, 2696, 6745, 2327, 1380, 881, 262, 2272, 171, 132, 963, 1328, 255, 3682, 23195, 1380, 2272], [464, 326, 1694, 8406, 4580, 234, 1560, 23196, 5869, 260, 33, 464, 1250, 514, 295, 1046, 801, 2460, 672, 461, 6877, 1178, 4506, 1226, 1644, 784, 693, 1517, 568, 3125, 568, 1995, 377, 2346, 1123, 5372, 333, 13826, 2081, 2421, 520, 390, 568, 568, 594, 771, 7015, 1790, 40, 594, 608, 510, 707, 941, 1517, 721, 281, 390, 721, 32, 1049, 5257, 4624, 954, 756, 334, 1260, 71], [106, 275, 275, 550, 247, 41, 176, 16, 108, 1641, 3482, 9026, 6, 6746, 1513, 856, 2818, 33, 437, 5483, 628, 1137, 2697, 2624, 165, 1831, 321, 484, 3901, 3560, 289], [2222, 667, 58, 347, 254, 1735, 972, 267, 39, 247, 551, 337, 117, 1034, 117, 1104, 1899, 548, 657, 422, 92, 4, 11, 788, 11, 523, 236, 448, 419, 122, 460, 39, 1054, 894, 111, 134, 11, 1084, 4102, 6047, 1754, 2168, 83, 315, 11, 229, 781, 31, 122, 138, 42, 92, 4, 964, 11, 11, 3151, 1931], [2244, 2038, 2244, 1366, 377, 134, 1840, 8770, 2169, 990, 244, 1849, 10807, 681, 1660, 1139, 4926, 4389, 1514, 76, 585, 3652, 5342, 371, 5050, 417, 306, 1558, 447, 10565, 342, 8225, 357, 2659, 4927, 2244, 115, 1242, 447, 280, 1558, 718, 5342, 371, 2333, 3076, 5342, 371, 576, 406, 614, 436, 728, 2333, 3152, 2244, 5342, 371], [700, 570, 145, 2511, 416, 167, 1000, 50, 520, 327, 132, 16, 776, 1061, 147, 16, 8036, 86, 6, 11302, 5658, 9167, 11303, 2039, 1115, 834, 114, 5020, 327, 3508, 16, 2192, 109, 2291, 3509, 920, 3275, 1791], [297, 3267, 5828, 1199, 1, 2, 12176, 379, 402, 138, 5258, 1987, 934, 46, 7434, 294, 6148, 3462, 1344, 3803, 13827, 247, 6503, 2854, 472, 2613, 2309, 3683, 584, 1399, 112, 302, 555, 4792, 1006, 494, 185, 1539, 831, 1741, 1819, 1032, 144, 5259, 807, 1760, 1054, 744, 116, 5623, 4273, 15, 111, 2, 20802, 1672, 15, 1472, 521, 10566, 3347, 20803, 9448, 23197, 219, 3214, 98, 12903, 989, 98, 512, 1412, 1325, 1181, 3517, 2110, 945, 6579, 391, 19108, 4731, 128, 1088, 2512, 98, 558, 2193, 168, 402, 227, 335, 118, 2780, 5659, 913, 107, 1078, 1348, 551, 1110, 3973, 192, 807], [970, 28, 970, 9449, 845, 3098, 36, 588, 636, 1461, 36, 483, 103, 15856, 36, 1695, 1537, 5, 753, 3529, 991, 234, 65, 36, 1283, 92, 4145, 1297, 816, 9168, 86, 700, 107, 53, 54, 384, 173, 369, 265, 1340, 6290, 845, 92, 564, 36, 956, 1081, 86, 1588, 1725, 1081, 402, 194, 1297, 816, 265, 7512, 4028, 1253, 63, 36, 364, 645, 816, 845, 63, 808, 3435, 86, 14406, 86, 144, 267, 4928, 860, 86, 33252], [3252, 483, 463, 54, 384, 369, 16, 615, 920, 98, 3475, 1598, 1041, 737, 1726, 182, 108, 341, 5104, 98, 1894, 350, 363, 232, 12, 2175, 1873, 944, 2240, 1832, 2454, 12, 523, 477, 1328, 2183, 12, 562, 25, 12, 2504, 91, 3077, 2240, 1832, 7928, 944, 2454, 2877]]\n",
            "199\n",
            "[[ 438 1214 2594 ...    0    0    0]\n",
            " [ 223 1119  461 ...    0    0    0]\n",
            " [ 464  326 1694 ...    0    0    0]\n",
            " ...\n",
            " [3252  483  463 ...    0    0    0]\n",
            " [ 763 1046 1656 ...    0    0    0]\n",
            " [1053 1569  259 ...    0    0    0]]\n"
          ],
          "name": "stdout"
        }
      ]
    },
    {
      "cell_type": "code",
      "metadata": {
        "id": "eIaUDTmyYlV1",
        "colab_type": "code",
        "outputId": "70396371-ab1d-44c5-c42c-b6f34e8f1277",
        "colab": {
          "base_uri": "https://localhost:8080/",
          "height": 35
        }
      },
      "source": [
        "Essay_VocabSize_red"
      ],
      "execution_count": 0,
      "outputs": [
        {
          "output_type": "execute_result",
          "data": {
            "text/plain": [
              "33545"
            ]
          },
          "metadata": {
            "tags": []
          },
          "execution_count": 62
        }
      ]
    },
    {
      "cell_type": "code",
      "metadata": {
        "id": "9W-Ji-amP1ui",
        "colab_type": "code",
        "outputId": "f720a29f-83d4-4209-883c-d081413ed948",
        "colab": {
          "base_uri": "https://localhost:8080/",
          "height": 69
        }
      },
      "source": [
        "from tensorboardcolab import *\n",
        "tbc=TensorBoardColab()"
      ],
      "execution_count": 0,
      "outputs": [
        {
          "output_type": "stream",
          "text": [
            "Wait for 8 seconds...\n",
            "TensorBoard link:\n",
            "https://4204deb7.ngrok.io\n"
          ],
          "name": "stdout"
        }
      ]
    },
    {
      "cell_type": "code",
      "metadata": {
        "id": "cjKZcXUQ0cuX",
        "colab_type": "code",
        "outputId": "cdc0bcd4-988c-4e22-b7ee-5a3766cd8d42",
        "colab": {
          "base_uri": "https://localhost:8080/",
          "height": 1000
        }
      },
      "source": [
        "from keras.layers import Dense,Input,LSTM,concatenate,Dropout\n",
        "from keras.models import Model\n",
        "from keras.regularizers import l2\n",
        "\n",
        "import tensorflow as tf\n",
        "from tensorflow.keras.callbacks import TensorBoard\n",
        "from time import time\n",
        "\n",
        "input_shape_1 = Input(shape=(padded_docs_train_red.shape[1],),name = 'essay')\n",
        "model_1 = Embedding(Essay_VocabSize_red, 300, weights= [embedding_matrix_red],  trainable=False)(input_shape_1)\n",
        "model_1 = LSTM(80,return_sequences=True,dropout = 0.5,kernel_initializer='random_normal')(model_1)\n",
        "model_1 = Flatten()(model_1)\n",
        "\n",
        "\n",
        "input_shape_2 = Input(shape=(1,),name = 'subcategories')\n",
        "model_2 = Embedding(subcategories_vocab, subcategories_embedding_size)(input_shape_2)\n",
        "model_2 = Flatten()(model_2)\n",
        "\n",
        "\n",
        "input_shape_3 = Input(shape=(1,),name = 'categories')\n",
        "model_3 = Embedding(categories_vocab,categories_embedding_size)(input_shape_3)\n",
        "model_3 = Flatten()(model_3)\n",
        "\n",
        "input_shape_4 = Input(shape=(1,),name = 'grade')\n",
        "model_4 = Embedding(grades_vocab,grades_embedding_size)(input_shape_4)\n",
        "model_4 = Flatten()(model_4)\n",
        "\n",
        "input_shape_5 = Input(shape=(1,),name = 'state')\n",
        "model_5 = Embedding(state_vocab,state_embedding_size)(input_shape_5)\n",
        "model_5 = Flatten()(model_5)\n",
        "\n",
        "input_shape_6 = Input(shape= (1,),name = 'teacher')\n",
        "model_6 = Embedding(teacher_vocab,teacher_embedding_size)(input_shape_6)\n",
        "model_6 = Flatten()(model_6)\n",
        "\n",
        "input_shape_7 = Input(shape=(rest_of_columns_train.shape[1],),name = 'rest')\n",
        "model_7 = Dense(32)(input_shape_7)\n",
        "                                                                  \n",
        "merged = concatenate([model_1,model_2,model_3,model_4,model_5,model_6,model_7])\n",
        "Dense_1 = Dense(80,activation ='relu',kernel_regularizer=l2(0.01),kernel_initializer='he_normal')(merged)\n",
        "Dense_1 = Dropout(0.8)(Dense_1)                \n",
        " \n",
        "Dense_2 = Dense(64,activation ='relu',kernel_initializer='he_normal')(Dense_1)\n",
        "Dense_2 = Dropout(0.6)(Dense_2)  \n",
        "                                                                  \n",
        "Dense_3 = Dense(32,activation ='relu',kernel_initializer='he_normal')(Dense_2)\n",
        "Dense_3 = Dropout(0.6)(Dense_3) \n",
        "                                                                  \n",
        "out = Dense(2, activation= 'softmax',name='output_layer')(Dense_3)\n",
        "model = Model(inputs = [input_shape_1,input_shape_2,input_shape_3,input_shape_4,input_shape_5,input_shape_6,input_shape_7],outputs=[out])\n",
        "rms = keras.optimizers.RMSprop(lr=0.001, rho=0.9, epsilon=None, decay=0.0)\n",
        "model.compile(optimizer= rms, loss='categorical_crossentropy',metrics=['mae', 'acc',auroc])\n",
        "model.summary()\n",
        "\n",
        "history = model.fit({\n",
        "            'essay': np.array(padded_docs_train_red),\n",
        "            'subcategories': np.array(subcategories_train),\n",
        "            'categories': np.array(categories_train),\n",
        "            'grade': np.array(grades_train),\n",
        "            'state': np.array(state_train),\n",
        "            'teacher':np.array(teacher_train),\n",
        "            'rest': np.array(rest_of_columns_train)},\n",
        "             {'output_layer': y_true}, \n",
        "    validation_data=({\n",
        "            'essay': np.array(padded_docs_val_red),\n",
        "            'subcategories': np.array(subcategories_val),\n",
        "            'categories': np.array(categories_val),\n",
        "            'grade': np.array(grades_val),\n",
        "            'state': np.array(state_val),\n",
        "            'teacher':np.array(teacher_val),\n",
        "            'rest': np.array(rest_of_columns_val)}, {'output_layer': y_val}),\n",
        "             epochs=30, batch_size=500,callbacks=[TensorBoardColabCallback(tbc)])"
      ],
      "execution_count": 0,
      "outputs": [
        {
          "output_type": "stream",
          "text": [
            "__________________________________________________________________________________________________\n",
            "Layer (type)                    Output Shape         Param #     Connected to                     \n",
            "==================================================================================================\n",
            "essay (InputLayer)              (None, 199)          0                                            \n",
            "__________________________________________________________________________________________________\n",
            "embedding_20 (Embedding)        (None, 199, 300)     16274400    essay[0][0]                      \n",
            "__________________________________________________________________________________________________\n",
            "subcategories (InputLayer)      (None, 1)            0                                            \n",
            "__________________________________________________________________________________________________\n",
            "categories (InputLayer)         (None, 1)            0                                            \n",
            "__________________________________________________________________________________________________\n",
            "grade (InputLayer)              (None, 1)            0                                            \n",
            "__________________________________________________________________________________________________\n",
            "state (InputLayer)              (None, 1)            0                                            \n",
            "__________________________________________________________________________________________________\n",
            "teacher (InputLayer)            (None, 1)            0                                            \n",
            "__________________________________________________________________________________________________\n",
            "lstm_4 (LSTM)                   (None, 199, 80)      121920      embedding_20[0][0]               \n",
            "__________________________________________________________________________________________________\n",
            "embedding_21 (Embedding)        (None, 1, 50)        19350       subcategories[0][0]              \n",
            "__________________________________________________________________________________________________\n",
            "embedding_22 (Embedding)        (None, 1, 26)        1326        categories[0][0]                 \n",
            "__________________________________________________________________________________________________\n",
            "embedding_23 (Embedding)        (None, 1, 2)         8           grade[0][0]                      \n",
            "__________________________________________________________________________________________________\n",
            "embedding_24 (Embedding)        (None, 1, 26)        1326        state[0][0]                      \n",
            "__________________________________________________________________________________________________\n",
            "embedding_25 (Embedding)        (None, 1, 3)         18          teacher[0][0]                    \n",
            "__________________________________________________________________________________________________\n",
            "rest (InputLayer)               (None, 2)            0                                            \n",
            "__________________________________________________________________________________________________\n",
            "flatten_19 (Flatten)            (None, 15920)        0           lstm_4[0][0]                     \n",
            "__________________________________________________________________________________________________\n",
            "flatten_20 (Flatten)            (None, 50)           0           embedding_21[0][0]               \n",
            "__________________________________________________________________________________________________\n",
            "flatten_21 (Flatten)            (None, 26)           0           embedding_22[0][0]               \n",
            "__________________________________________________________________________________________________\n",
            "flatten_22 (Flatten)            (None, 2)            0           embedding_23[0][0]               \n",
            "__________________________________________________________________________________________________\n",
            "flatten_23 (Flatten)            (None, 26)           0           embedding_24[0][0]               \n",
            "__________________________________________________________________________________________________\n",
            "flatten_24 (Flatten)            (None, 3)            0           embedding_25[0][0]               \n",
            "__________________________________________________________________________________________________\n",
            "dense_13 (Dense)                (None, 32)           96          rest[0][0]                       \n",
            "__________________________________________________________________________________________________\n",
            "concatenate_4 (Concatenate)     (None, 16059)        0           flatten_19[0][0]                 \n",
            "                                                                 flatten_20[0][0]                 \n",
            "                                                                 flatten_21[0][0]                 \n",
            "                                                                 flatten_22[0][0]                 \n",
            "                                                                 flatten_23[0][0]                 \n",
            "                                                                 flatten_24[0][0]                 \n",
            "                                                                 dense_13[0][0]                   \n",
            "__________________________________________________________________________________________________\n",
            "dense_14 (Dense)                (None, 80)           1284800     concatenate_4[0][0]              \n",
            "__________________________________________________________________________________________________\n",
            "dropout_10 (Dropout)            (None, 80)           0           dense_14[0][0]                   \n",
            "__________________________________________________________________________________________________\n",
            "dense_15 (Dense)                (None, 64)           5184        dropout_10[0][0]                 \n",
            "__________________________________________________________________________________________________\n",
            "dropout_11 (Dropout)            (None, 64)           0           dense_15[0][0]                   \n",
            "__________________________________________________________________________________________________\n",
            "dense_16 (Dense)                (None, 32)           2080        dropout_11[0][0]                 \n",
            "__________________________________________________________________________________________________\n",
            "dropout_12 (Dropout)            (None, 32)           0           dense_16[0][0]                   \n",
            "__________________________________________________________________________________________________\n",
            "output_layer (Dense)            (None, 2)            66          dropout_12[0][0]                 \n",
            "==================================================================================================\n",
            "Total params: 17,710,574\n",
            "Trainable params: 1,436,174\n",
            "Non-trainable params: 16,274,400\n",
            "__________________________________________________________________________________________________\n",
            "Train on 68825 samples, validate on 7648 samples\n",
            "Epoch 1/30\n",
            "68825/68825 [==============================] - 59s 857us/step - loss: 0.7288 - mean_absolute_error: 0.3241 - acc: 0.8188 - auroc: 0.5346 - val_loss: 0.4800 - val_mean_absolute_error: 0.2572 - val_acc: 0.8584 - val_auroc: 0.6868\n",
            "Epoch 2/30\n",
            "68825/68825 [==============================] - 57s 831us/step - loss: 0.5247 - mean_absolute_error: 0.2678 - acc: 0.8480 - auroc: 0.5766 - val_loss: 0.4887 - val_mean_absolute_error: 0.2755 - val_acc: 0.8584 - val_auroc: 0.6976\n",
            "Epoch 3/30\n",
            "68825/68825 [==============================] - 57s 825us/step - loss: 0.5023 - mean_absolute_error: 0.2610 - acc: 0.8481 - auroc: 0.6125 - val_loss: 0.4560 - val_mean_absolute_error: 0.2413 - val_acc: 0.8584 - val_auroc: 0.7075\n",
            "Epoch 4/30\n",
            "68825/68825 [==============================] - 57s 823us/step - loss: 0.4847 - mean_absolute_error: 0.2561 - acc: 0.8481 - auroc: 0.6362 - val_loss: 0.4626 - val_mean_absolute_error: 0.2720 - val_acc: 0.8584 - val_auroc: 0.7174\n",
            "Epoch 5/30\n",
            "68825/68825 [==============================] - 57s 822us/step - loss: 0.4744 - mean_absolute_error: 0.2534 - acc: 0.8481 - auroc: 0.6528 - val_loss: 0.4419 - val_mean_absolute_error: 0.2506 - val_acc: 0.8584 - val_auroc: 0.7257\n",
            "Epoch 6/30\n",
            "68825/68825 [==============================] - 58s 836us/step - loss: 0.4648 - mean_absolute_error: 0.2504 - acc: 0.8481 - auroc: 0.6712 - val_loss: 0.4321 - val_mean_absolute_error: 0.2491 - val_acc: 0.8584 - val_auroc: 0.7277\n",
            "Epoch 7/30\n",
            "68825/68825 [==============================] - 57s 831us/step - loss: 0.4569 - mean_absolute_error: 0.2480 - acc: 0.8481 - auroc: 0.6809 - val_loss: 0.4226 - val_mean_absolute_error: 0.2335 - val_acc: 0.8584 - val_auroc: 0.7288\n",
            "Epoch 8/30\n",
            "68825/68825 [==============================] - 56s 819us/step - loss: 0.4530 - mean_absolute_error: 0.2467 - acc: 0.8481 - auroc: 0.6878 - val_loss: 0.4335 - val_mean_absolute_error: 0.2574 - val_acc: 0.8584 - val_auroc: 0.7264\n",
            "Epoch 9/30\n",
            "68825/68825 [==============================] - 56s 818us/step - loss: 0.4490 - mean_absolute_error: 0.2462 - acc: 0.8481 - auroc: 0.6911 - val_loss: 0.4219 - val_mean_absolute_error: 0.2380 - val_acc: 0.8584 - val_auroc: 0.7318\n",
            "Epoch 10/30\n",
            "68825/68825 [==============================] - 56s 817us/step - loss: 0.4464 - mean_absolute_error: 0.2449 - acc: 0.8481 - auroc: 0.6991 - val_loss: 0.4182 - val_mean_absolute_error: 0.2388 - val_acc: 0.8584 - val_auroc: 0.7318\n",
            "Epoch 11/30\n",
            "68825/68825 [==============================] - 56s 820us/step - loss: 0.4446 - mean_absolute_error: 0.2440 - acc: 0.8481 - auroc: 0.7007 - val_loss: 0.4137 - val_mean_absolute_error: 0.2293 - val_acc: 0.8584 - val_auroc: 0.7361\n",
            "Epoch 12/30\n",
            "68825/68825 [==============================] - 57s 835us/step - loss: 0.4419 - mean_absolute_error: 0.2430 - acc: 0.8481 - auroc: 0.7054 - val_loss: 0.4171 - val_mean_absolute_error: 0.2406 - val_acc: 0.8584 - val_auroc: 0.7329\n",
            "Epoch 13/30\n",
            "68825/68825 [==============================] - 56s 820us/step - loss: 0.4400 - mean_absolute_error: 0.2430 - acc: 0.8481 - auroc: 0.7107 - val_loss: 0.4137 - val_mean_absolute_error: 0.2356 - val_acc: 0.8584 - val_auroc: 0.7392\n",
            "Epoch 14/30\n",
            "68825/68825 [==============================] - 56s 820us/step - loss: 0.4385 - mean_absolute_error: 0.2428 - acc: 0.8481 - auroc: 0.7101 - val_loss: 0.4166 - val_mean_absolute_error: 0.2346 - val_acc: 0.8584 - val_auroc: 0.7288\n",
            "Epoch 15/30\n",
            "68825/68825 [==============================] - 56s 817us/step - loss: 0.4400 - mean_absolute_error: 0.2423 - acc: 0.8481 - auroc: 0.7130 - val_loss: 0.4193 - val_mean_absolute_error: 0.2326 - val_acc: 0.8584 - val_auroc: 0.7312\n",
            "Epoch 16/30\n",
            "68825/68825 [==============================] - 56s 819us/step - loss: 0.4391 - mean_absolute_error: 0.2413 - acc: 0.8481 - auroc: 0.7184 - val_loss: 0.4138 - val_mean_absolute_error: 0.2305 - val_acc: 0.8584 - val_auroc: 0.7391\n",
            "Epoch 17/30\n",
            "68825/68825 [==============================] - 57s 833us/step - loss: 0.4394 - mean_absolute_error: 0.2410 - acc: 0.8481 - auroc: 0.7190 - val_loss: 0.4124 - val_mean_absolute_error: 0.2171 - val_acc: 0.8584 - val_auroc: 0.7372\n",
            "Epoch 18/30\n",
            "68825/68825 [==============================] - 57s 824us/step - loss: 0.4394 - mean_absolute_error: 0.2408 - acc: 0.8481 - auroc: 0.7209 - val_loss: 0.4137 - val_mean_absolute_error: 0.2052 - val_acc: 0.8584 - val_auroc: 0.7355\n",
            "Epoch 19/30\n",
            "68825/68825 [==============================] - 57s 821us/step - loss: 0.4384 - mean_absolute_error: 0.2402 - acc: 0.8481 - auroc: 0.7256 - val_loss: 0.4262 - val_mean_absolute_error: 0.1965 - val_acc: 0.8584 - val_auroc: 0.7377\n",
            "Epoch 20/30\n",
            "68825/68825 [==============================] - 56s 820us/step - loss: 0.4390 - mean_absolute_error: 0.2396 - acc: 0.8481 - auroc: 0.7293 - val_loss: 0.4187 - val_mean_absolute_error: 0.2334 - val_acc: 0.8584 - val_auroc: 0.7351\n",
            "Epoch 21/30\n",
            "68825/68825 [==============================] - 56s 819us/step - loss: 0.4390 - mean_absolute_error: 0.2396 - acc: 0.8481 - auroc: 0.7288 - val_loss: 0.4178 - val_mean_absolute_error: 0.2102 - val_acc: 0.8584 - val_auroc: 0.7382\n",
            "Epoch 22/30\n",
            "68825/68825 [==============================] - 56s 821us/step - loss: 0.4395 - mean_absolute_error: 0.2390 - acc: 0.8481 - auroc: 0.7309 - val_loss: 0.4163 - val_mean_absolute_error: 0.2286 - val_acc: 0.8584 - val_auroc: 0.7376\n",
            "Epoch 23/30\n",
            "68825/68825 [==============================] - 58s 836us/step - loss: 0.4406 - mean_absolute_error: 0.2396 - acc: 0.8481 - auroc: 0.7320 - val_loss: 0.4151 - val_mean_absolute_error: 0.2219 - val_acc: 0.8584 - val_auroc: 0.7376\n",
            "Epoch 24/30\n",
            "68825/68825 [==============================] - 56s 820us/step - loss: 0.4385 - mean_absolute_error: 0.2376 - acc: 0.8481 - auroc: 0.7382 - val_loss: 0.4221 - val_mean_absolute_error: 0.2090 - val_acc: 0.8584 - val_auroc: 0.7346\n",
            "Epoch 25/30\n",
            "68825/68825 [==============================] - 56s 819us/step - loss: 0.4410 - mean_absolute_error: 0.2373 - acc: 0.8481 - auroc: 0.7388 - val_loss: 0.4273 - val_mean_absolute_error: 0.2419 - val_acc: 0.8584 - val_auroc: 0.7334\n",
            "Epoch 26/30\n",
            "68825/68825 [==============================] - 56s 820us/step - loss: 0.4412 - mean_absolute_error: 0.2377 - acc: 0.8481 - auroc: 0.7397 - val_loss: 0.4270 - val_mean_absolute_error: 0.2245 - val_acc: 0.8584 - val_auroc: 0.7325\n",
            "Epoch 27/30\n",
            "68825/68825 [==============================] - 56s 819us/step - loss: 0.4412 - mean_absolute_error: 0.2368 - acc: 0.8481 - auroc: 0.7449 - val_loss: 0.4297 - val_mean_absolute_error: 0.2335 - val_acc: 0.8584 - val_auroc: 0.7373\n",
            "Epoch 28/30\n",
            "68825/68825 [==============================] - 57s 831us/step - loss: 0.4419 - mean_absolute_error: 0.2369 - acc: 0.8481 - auroc: 0.7465 - val_loss: 0.4363 - val_mean_absolute_error: 0.2120 - val_acc: 0.8584 - val_auroc: 0.7353\n",
            "Epoch 29/30\n",
            "68825/68825 [==============================] - 57s 829us/step - loss: 0.4423 - mean_absolute_error: 0.2357 - acc: 0.8481 - auroc: 0.7487 - val_loss: 0.4348 - val_mean_absolute_error: 0.2429 - val_acc: 0.8584 - val_auroc: 0.7302\n",
            "Epoch 30/30\n",
            "68825/68825 [==============================] - 56s 820us/step - loss: 0.4420 - mean_absolute_error: 0.2349 - acc: 0.8481 - auroc: 0.7522 - val_loss: 0.4341 - val_mean_absolute_error: 0.1975 - val_acc: 0.8584 - val_auroc: 0.7370\n"
          ],
          "name": "stdout"
        }
      ]
    },
    {
      "cell_type": "code",
      "metadata": {
        "id": "v4lvUGYxSXpI",
        "colab_type": "code",
        "outputId": "a827eef8-eb66-438a-bc2e-a247b6958475",
        "colab": {
          "base_uri": "https://localhost:8080/",
          "height": 35
        }
      },
      "source": [
        "results = model.evaluate({\n",
        "            'essay': np.array(padded_docs_test_red),\n",
        "            'subcategories': np.array(subcategories_test),\n",
        "            'categories': np.array(categories_test),\n",
        "            'grade': np.array(grades_test),\n",
        "            'state': np.array(state_test),\n",
        "            'teacher':np.array(teacher_test),\n",
        "            'rest': np.array(rest_of_columns_test)},\n",
        "             {'output_layer': y_test} ,batch_size=128)"
      ],
      "execution_count": 0,
      "outputs": [
        {
          "output_type": "stream",
          "text": [
            "32775/32775 [==============================] - 40s 1ms/step\n"
          ],
          "name": "stdout"
        }
      ]
    },
    {
      "cell_type": "code",
      "metadata": {
        "id": "mhpzJ40zowS6",
        "colab_type": "code",
        "outputId": "93c95863-253d-45e4-ec7a-3c9575a9ff02",
        "colab": {
          "base_uri": "https://localhost:8080/",
          "height": 87
        }
      },
      "source": [
        "print(\"loss : \",results[0] )\n",
        "print(\"Mean absolute Error  : \",results[1] )\n",
        "print(\"Accuracy  : \",results[2] )\n",
        "print(\"Auroc  : \",results[3] )"
      ],
      "execution_count": 0,
      "outputs": [
        {
          "output_type": "stream",
          "text": [
            "loss :  0.46520717229486697\n",
            "Mean absolute Error  :  0.2067822956429648\n",
            "Accuracy  :  0.8472311212851017\n",
            "Auroc  :  0.7207152198131176\n"
          ],
          "name": "stdout"
        }
      ]
    },
    {
      "cell_type": "code",
      "metadata": {
        "id": "apMvmUzzrW0c",
        "colab_type": "code",
        "outputId": "e0fadc6c-d229-406a-e63f-37148b227b05",
        "colab": {
          "base_uri": "https://localhost:8080/",
          "height": 295
        }
      },
      "source": [
        "# summarize history for accuracy\n",
        "plt.plot(history.history['loss'])\n",
        "plt.plot(history.history['val_loss'])\n",
        "plt.title('loss')\n",
        "plt.ylabel('loss')\n",
        "plt.xlabel('epoch')\n",
        "plt.legend(['train', 'val'], loc='upper right')\n",
        "plt.show()"
      ],
      "execution_count": 0,
      "outputs": [
        {
          "output_type": "display_data",
          "data": {
            "image/png": "[encoded data removed]",
            "text/plain": [
              "<Figure size 432x288 with 1 Axes>"
            ]
          },
          "metadata": {
            "tags": []
          }
        }
      ]
    },
    {
      "cell_type": "code",
      "metadata": {
        "id": "9mOo-0uu4hBE",
        "colab_type": "code",
        "outputId": "21f8ac70-e968-428e-9631-d316210427be",
        "colab": {
          "base_uri": "https://localhost:8080/",
          "height": 295
        }
      },
      "source": [
        "plt.plot(history.history['mean_absolute_error'])\n",
        "plt.plot(history.history['val_mean_absolute_error'])\n",
        "plt.title('MAE')\n",
        "plt.ylabel('MAE')\n",
        "plt.xlabel('epoch')\n",
        "plt.legend(['train', 'val'], loc='upper right')\n",
        "plt.show()"
      ],
      "execution_count": 0,
      "outputs": [
        {
          "output_type": "display_data",
          "data": {
            "image/png": "[encoded data removed]",
            "text/plain": [
              "<Figure size 432x288 with 1 Axes>"
            ]
          },
          "metadata": {
            "tags": []
          }
        }
      ]
    },
    {
      "cell_type": "code",
      "metadata": {
        "id": "nl_YhnJW4o4E",
        "colab_type": "code",
        "outputId": "5aed9329-4117-4ab3-fe64-5d02b0792c61",
        "colab": {
          "base_uri": "https://localhost:8080/",
          "height": 295
        }
      },
      "source": [
        "plt.plot(history.history['auroc'])\n",
        "plt.plot(history.history['val_auroc'])\n",
        "plt.title('auroc')\n",
        "plt.ylabel('auroc')\n",
        "plt.xlabel('epoch')\n",
        "plt.legend(['train', 'val'], loc='upper right')\n",
        "plt.show()"
      ],
      "execution_count": 0,
      "outputs": [
        {
          "output_type": "display_data",
          "data": {
            "image/png": "[encoded data removed]",
            "text/plain": [
              "<Figure size 432x288 with 1 Axes>"
            ]
          },
          "metadata": {
            "tags": []
          }
        }
      ]
    },
    {
      "cell_type": "markdown",
      "metadata": {
        "id": "T20lVgZ3EIn6",
        "colab_type": "text"
      },
      "source": [
        "<img src='https://i.imgur.com/fkQ8nGo.png'>\n",
        "ref: https://i.imgur.com/fkQ8nGo.png"
      ]
    },
    {
      "cell_type": "markdown",
      "metadata": {
        "id": "F6aBr9cEEXHU",
        "colab_type": "text"
      },
      "source": [
        "\n",
        "- __input_seq_total_text_data__: <br>\n",
        "<pre>\n",
        "    . Use text column('essay'), and use the Embedding layer to get word vectors. <br>\n",
        "    . Use given predefined glove word vectors, don't train any word vectors. <br>\n",
        "    . Use LSTM that is given above, get the LSTM output and Flatten that output. <br>\n",
        "    . You are free to preprocess the input text as you needed. <br>\n",
        "</pre>\n",
        "- __Other_than_text_data__:<br>\n",
        "<pre>\n",
        "    . Convert all your Categorical values to onehot coded and then concatenate all these onehot vectors <br>\n",
        "    . Neumerical values and use <a href='https://keras.io/getting-started/sequential-model-guide/#sequence-classification-with-1d-convolutions'>CNN1D</a> as shown in above figure. <br>\n",
        "    . You are free to choose all CNN parameters like kernel sizes, stride.<br>\n",
        "    \n",
        "</pre>"
      ]
    },
    {
      "cell_type": "code",
      "metadata": {
        "id": "vHNZhdAOOwhR",
        "colab_type": "code",
        "colab": {}
      },
      "source": [
        ""
      ],
      "execution_count": 0,
      "outputs": []
    },
    {
      "cell_type": "code",
      "metadata": {
        "id": "U-A1Eb7WFFWp",
        "colab_type": "code",
        "outputId": "31123578-2732-4c89-a096-77a638244b6a",
        "colab": {
          "base_uri": "https://localhost:8080/",
          "height": 956
        }
      },
      "source": [
        "\n",
        "my_counter = Counter()\n",
        "for word in X_train['clean_categories'].values:\n",
        "    my_counter.update(word.split())\n",
        "cat_dict = dict(my_counter)\n",
        "from sklearn.feature_extraction.text import CountVectorizer\n",
        "vectorizer = CountVectorizer(vocabulary = cat_dict.keys(), lowercase=False, binary=True)\n",
        "categories_one_hot_train = vectorizer.fit_transform(X_train['clean_categories'].values)\n",
        "categories_one_hot_test = vectorizer.transform(X_test['clean_categories'].values)\n",
        "categories_one_hot_cv = vectorizer.transform(X_CV['clean_categories'].values)\n",
        "print(vectorizer.get_feature_names())\n",
        "\n",
        "print(\"Shape of matrix after one hot encodig \",categories_one_hot_test.toarray())\n",
        "\n",
        "# Categories are properly counted\n",
        "print(X_train.clean_categories.head(2))\n",
        "print(X_test.clean_categories.head(2))\n",
        "\n",
        "\n",
        "# we use count vectorizer to convert the values into one \n",
        "my_counter = Counter()\n",
        "for word in X_train['clean_subcategories'].values:\n",
        "    my_counter.update(word.split())\n",
        "subcat_dict = dict(my_counter)\n",
        "vectorizer = CountVectorizer(vocabulary=list(subcat_dict.keys()), lowercase=False, binary=True)\n",
        "sub_categories_one_hot_train = vectorizer.fit_transform(X_train['clean_subcategories'].values)\n",
        "sub_categories_one_hot_test = vectorizer.transform(X_test['clean_subcategories'].values)\n",
        "sub_categories_one_hot_cv = vectorizer.transform(X_CV['clean_subcategories'].values)\n",
        "print(vectorizer.get_feature_names())\n",
        "print(\"Shape of matrix after one hot encodig \",sub_categories_one_hot_train.shape)\n",
        "print(\"Shape of matrix after one hot encodig \",sub_categories_one_hot_train.toarray())\n",
        "\n",
        "# count vectorize school_state with one\n",
        "vectorizer = CountVectorizer(vocabulary=list(X_train['school_state'].unique()), lowercase=False, binary=True)\n",
        "categories_school_state_one_hot_train = vectorizer.fit_transform(X_train['school_state'].values)\n",
        "print(vectorizer.get_feature_names())\n",
        "categories_school_state_one_hot_test = vectorizer.transform(X_test['school_state'].values)\n",
        "categories_school_state_one_hot_cv = vectorizer.transform(X_CV['school_state'].values)\n",
        "print(\"Shape of matrix after one hot encodig \",categories_school_state_one_hot_train.toarray())\n",
        "print(\"Shape of matrix after one hot encodig \",categories_school_state_one_hot_train.shape)\n",
        "\n",
        "# count vectorize project_grade_category with one\n",
        "\n",
        "vectorizer = CountVectorizer(vocabulary=list(X_train['project_grade_category'].unique()),lowercase=False, binary=True)\n",
        "vectorizer.fit(X_train['project_grade_category'].values)\n",
        "print(vectorizer.get_feature_names())\n",
        "categories_project_grade_one_hot_train = vectorizer.transform(X_train['project_grade_category'].values)\n",
        "categories_project_grade_one_hot_test = vectorizer.transform(X_test['project_grade_category'].values)\n",
        "categories_project_grade_one_hot_cv = vectorizer.transform(X_CV['project_grade_category'].values)\n",
        "print(\"Shape of matrix after one hot encodig \",categories_project_grade_one_hot_train .toarray())\n",
        "print(\"Shape of matrix after one hot encodig \",categories_project_grade_one_hot_train .shape)\n",
        "print(\"Shape of matrix after one hot encodig \",categories_project_grade_one_hot_test .shape)\n",
        "\n",
        "\n",
        "# count vectorize teacher_prefix with one\n",
        "vectorizer = CountVectorizer(vocabulary  = ['Ms', 'Mrs', 'Mr', 'Teacher','Dr'],lowercase=False, binary=True) #Manually assigned vocabulary to fix Na Values\n",
        "vectorizer.fit(X_train['teacher_prefix'].values)\n",
        "print(vectorizer.get_feature_names())\n",
        "categories_teacher_prefix_one_hot_train = vectorizer.transform(X_train['teacher_prefix'].values)\n",
        "categories_teacher_prefix_one_hot_test = vectorizer.transform(X_test['teacher_prefix'].values)\n",
        "categories_teacher_prefix_one_hot_cv = vectorizer.transform(X_CV['teacher_prefix'].values)\n",
        "print(\"Shape of matrix after one hot encodig \",categories_teacher_prefix_one_hot_train.toarray())\n",
        "print(\"Shape of matrix after one hot encodig \",categories_teacher_prefix_one_hot_train.shape)\n",
        "print(\"Shape of matrix after one hot encodig \",categories_teacher_prefix_one_hot_test.shape)\n",
        "\n",
        "from sklearn.preprocessing import StandardScaler\n",
        "\n",
        "# price_standardized = standardScalar.fit(project_data['price'].values)\n",
        "# this will rise the error\n",
        "# ValueError: Expected 2D array, got 1D array instead: array=[725.05 213.03 329.   ... 399.   287.73   5.5 ].\n",
        "# Reshape your data either using array.reshape(-1, 1)\n",
        "\n",
        "price_scalar = StandardScaler()\n",
        "price_scalar.fit(X_train['price'].values.reshape(-1,1)) # finding the mean and standard deviation of this data\n",
        "print(f\"Mean : {price_scalar.mean_[0]}, Standard deviation : {np.sqrt(price_scalar.var_[0])}\")\n",
        "# transforming based on train data\n",
        "# Now standardize the data with above maen and variance.\n",
        "price_standardized_train = price_scalar.transform(X_train['price'].values.reshape(-1, 1))\n",
        "price_standardized_test =  price_scalar.transform(X_test['price'].values.reshape(-1,1))\n",
        "price_standardized_cv =  price_scalar.transform(X_CV['price'].values.reshape(-1,1))\n",
        "\n",
        "no_previously_posted_project_scalar = StandardScaler()\n",
        "no_previously_posted_project_scalar.fit(X_train['teacher_number_of_previously_posted_projects'].values.reshape(-1,1))\n",
        "\n",
        "\n",
        "# Now standardize the data with above maen and variance.\n",
        "no_previously_posted_project_standardized_train = no_previously_posted_project_scalar.transform(X_train['teacher_number_of_previously_posted_projects'].values.reshape(-1, 1))\n",
        "no_previously_posted_project_standardized_test = no_previously_posted_project_scalar.transform(X_test['teacher_number_of_previously_posted_projects'].values.reshape(-1, 1))\n",
        "no_previously_posted_project_standardized_cv = no_previously_posted_project_scalar.transform(X_CV['teacher_number_of_previously_posted_projects'].values.reshape(-1, 1))\n",
        "\n",
        "categories_concat_train = hstack((categories_one_hot_train, sub_categories_one_hot_train,categories_school_state_one_hot_train,categories_project_grade_one_hot_train,categories_teacher_prefix_one_hot_train,price_standardized_train,no_previously_posted_project_standardized_train)).tocsr()\n",
        "categories_concat_test = hstack((categories_one_hot_test, sub_categories_one_hot_test,categories_school_state_one_hot_test,categories_project_grade_one_hot_test,categories_teacher_prefix_one_hot_test,price_standardized_test,no_previously_posted_project_standardized_test)).tocsr()\n",
        "categories_concat_cv = hstack((categories_one_hot_cv, sub_categories_one_hot_cv,categories_school_state_one_hot_cv,categories_project_grade_one_hot_cv,categories_teacher_prefix_one_hot_cv,price_standardized_cv,no_previously_posted_project_standardized_cv)).tocsr()\n"
      ],
      "execution_count": 0,
      "outputs": [
        {
          "output_type": "stream",
          "text": [
            "['Literacy_Language', 'Music_Arts', 'Math_Science', 'SpecialNeeds', 'AppliedLearning', 'Health_Sports', 'History_Civics', 'Warmth', 'Care_Hunger']\n",
            "Shape of matrix after one hot encodig  [[0 0 1 ... 1 0 0]\n",
            " [1 0 0 ... 0 0 0]\n",
            " [0 0 0 ... 0 0 0]\n",
            " ...\n",
            " [1 0 1 ... 0 0 0]\n",
            " [0 1 1 ... 0 0 0]\n",
            " [0 0 1 ... 0 0 0]]\n",
            "81773    Literacy_Language\n",
            "10725           Music_Arts\n",
            "Name: clean_categories, dtype: object\n",
            "72954    History_Civics Math_Science\n",
            "95557              Literacy_Language\n",
            "Name: clean_categories, dtype: object\n",
            "['Literacy', 'VisualArts', 'AppliedSciences', 'SpecialNeeds', 'Literature_Writing', 'Mathematics', 'College_CareerPrep', 'ForeignLanguages', 'Health_Wellness', 'EarlyDevelopment', 'Gym_Fitness', 'ESL', 'Civics_Government', 'CommunityService', 'NutritionEducation', 'Music', 'Warmth', 'Care_Hunger', 'TeamSports', 'Health_LifeScience', 'EnvironmentalScience', 'History_Geography', 'Other', 'SocialSciences', 'PerformingArts', 'CharacterEducation', 'Extracurricular', 'FinancialLiteracy', 'ParentInvolvement', 'Economics']\n",
            "Shape of matrix after one hot encodig  (68825, 30)\n",
            "Shape of matrix after one hot encodig  [[1 0 0 ... 0 0 0]\n",
            " [0 1 0 ... 0 0 0]\n",
            " [0 0 1 ... 0 0 0]\n",
            " ...\n",
            " [0 0 0 ... 0 0 0]\n",
            " [0 0 0 ... 0 0 0]\n",
            " [1 0 0 ... 0 0 0]]\n",
            "['WI', 'WY', 'DC', 'MA', 'AL', 'CA', 'IL', 'GA', 'WA', 'FL', 'LA', 'ID', 'NY', 'IN', 'SC', 'NC', 'MI', 'UT', 'NJ', 'OH', 'AZ', 'AR', 'PA', 'TN', 'OR', 'NV', 'MN', 'MO', 'IA', 'TX', 'RI', 'MD', 'NH', 'NE', 'NM', 'VA', 'CT', 'KY', 'OK', 'HI', 'MS', 'CO', 'MT', 'AK', 'WV', 'KS', 'ME', 'SD', 'DE', 'ND', 'VT']\n",
            "Shape of matrix after one hot encodig  [[1 0 0 ... 0 0 0]\n",
            " [0 1 0 ... 0 0 0]\n",
            " [0 0 1 ... 0 0 0]\n",
            " ...\n",
            " [0 0 0 ... 0 0 0]\n",
            " [0 0 0 ... 0 0 0]\n",
            " [0 0 0 ... 0 0 0]]\n",
            "Shape of matrix after one hot encodig  (68825, 51)\n",
            "['PreK_to_2', '9_to_12', '6_to_8', '3_to_5']\n",
            "Shape of matrix after one hot encodig  [[1 0 0 0]\n",
            " [0 1 0 0]\n",
            " [0 0 1 0]\n",
            " ...\n",
            " [1 0 0 0]\n",
            " [0 0 0 1]\n",
            " [1 0 0 0]]\n",
            "Shape of matrix after one hot encodig  (68825, 4)\n",
            "Shape of matrix after one hot encodig  (32775, 4)\n",
            "['Ms', 'Mrs', 'Mr', 'Teacher', 'Dr']\n",
            "Shape of matrix after one hot encodig  [[0 1 0 0 0]\n",
            " [0 1 0 0 0]\n",
            " [1 0 0 0 0]\n",
            " ...\n",
            " [1 0 0 0 0]\n",
            " [0 1 0 0 0]\n",
            " [0 1 0 0 0]]\n",
            "Shape of matrix after one hot encodig  (68825, 5)\n",
            "Shape of matrix after one hot encodig  (32775, 5)\n",
            "Mean : 298.7114971304032, Standard deviation : 368.2734917870006\n"
          ],
          "name": "stdout"
        }
      ]
    },
    {
      "cell_type": "code",
      "metadata": {
        "id": "qWJGv0P0ljiI",
        "colab_type": "code",
        "outputId": "96115e25-1818-4a36-d1d0-911078b4ce42",
        "colab": {
          "base_uri": "https://localhost:8080/",
          "height": 69
        }
      },
      "source": [
        "from tensorboardcolab import *\n",
        "tbc=TensorBoardColab()"
      ],
      "execution_count": 0,
      "outputs": [
        {
          "output_type": "stream",
          "text": [
            "Wait for 8 seconds...\n",
            "TensorBoard link:\n",
            "http://88bd2da5.ngrok.io\n"
          ],
          "name": "stdout"
        }
      ]
    },
    {
      "cell_type": "code",
      "metadata": {
        "id": "3iCXuOExFsmI",
        "colab_type": "code",
        "colab": {}
      },
      "source": [
        "from keras.layers import Dense,Input,LSTM,concatenate,Conv1D,MaxPooling1D,Concatenate,Activation,Dropout,Flatten\n",
        "\n",
        "from keras.models import Model\n",
        "from keras.utils import to_categorical\n",
        "import tensorflow as tf\n",
        "from tensorflow.keras.callbacks import TensorBoard\n",
        "from time import time\n",
        "import datetime\n",
        "\n",
        "input_1 = Input(shape=(padded_docs_train.shape[1],),name = 'essay')\n",
        "model_1 = Embedding(Essay_VocabSize, 300, weights= [embedding_matrix],  trainable=False)(input_1)\n",
        "model_1 = LSTM(128,return_sequences=True,dropout = 0.5,kernel_initializer='random_normal')(model_1)\n",
        "model_1 = Flatten()(model_1)"
      ],
      "execution_count": 0,
      "outputs": []
    },
    {
      "cell_type": "code",
      "metadata": {
        "id": "0mMqGyzkHmik",
        "colab_type": "code",
        "colab": {}
      },
      "source": [
        "input_2 = Input(shape=(categories_concat_train.shape[1],1),name = \"concat\")\n",
        "model_2 = Conv1D(64,(4,),padding ='same',activation ='relu')(input_2)\n",
        "model_2 = MaxPooling1D((2,),strides=(1,),padding='same')(model_2)\n",
        "\n",
        "model_2 = Conv1D(128,(4,),padding ='same',activation ='relu')(model_2)\n",
        "model_2 = MaxPooling1D((2,),strides=(1,),padding='same')(model_2)\n",
        "model_2 = Flatten()(model_2)"
      ],
      "execution_count": 0,
      "outputs": []
    },
    {
      "cell_type": "code",
      "metadata": {
        "id": "EFclpw5sGHBY",
        "colab_type": "code",
        "outputId": "97250cc6-cacf-4e4c-edc9-68c7fb3cf839",
        "colab": {
          "base_uri": "https://localhost:8080/",
          "height": 745
        }
      },
      "source": [
        "merged = concatenate([model_1,model_2])\n",
        "Dense_1 = Dense(128,activation ='relu',kernel_initializer='random_normal',kernel_regularizer=l2(0.01))(merged)\n",
        "Dense_1 = Dropout(0.6)(Dense_1)                \n",
        " \n",
        "Dense_2 = Dense(64,activation ='relu')(Dense_1)\n",
        "Dense_2 = Dropout(0.8)(Dense_2)  \n",
        "                                                                  \n",
        "Dense_3 = Dense(32,activation ='relu')(Dense_2)                                                                  \n",
        "out = Dense(2, activation= 'softmax',name='output_layer')(Dense_3)\n",
        "model_3 = Model(inputs = [input_1,input_2],outputs=[out])\n",
        "rms = keras.optimizers.RMSprop(lr=0.001, rho=0.9, epsilon=None, decay=0.0)\n",
        "model_3.compile(optimizer= rms, loss='categorical_crossentropy',metrics=['mae', 'acc',auroc])\n",
        "model_3.summary()"
      ],
      "execution_count": 0,
      "outputs": [
        {
          "output_type": "stream",
          "text": [
            "__________________________________________________________________________________________________\n",
            "Layer (type)                    Output Shape         Param #     Connected to                     \n",
            "==================================================================================================\n",
            "concat (InputLayer)             (None, 101, 1)       0                                            \n",
            "__________________________________________________________________________________________________\n",
            "conv1d_7 (Conv1D)               (None, 101, 64)      320         concat[0][0]                     \n",
            "__________________________________________________________________________________________________\n",
            "essay (InputLayer)              (None, 326)          0                                            \n",
            "__________________________________________________________________________________________________\n",
            "max_pooling1d_7 (MaxPooling1D)  (None, 101, 64)      0           conv1d_7[0][0]                   \n",
            "__________________________________________________________________________________________________\n",
            "embedding_30 (Embedding)        (None, 326, 300)     16403400    essay[0][0]                      \n",
            "__________________________________________________________________________________________________\n",
            "conv1d_8 (Conv1D)               (None, 101, 128)     32896       max_pooling1d_7[0][0]            \n",
            "__________________________________________________________________________________________________\n",
            "lstm_9 (LSTM)                   (None, 326, 128)     219648      embedding_30[0][0]               \n",
            "__________________________________________________________________________________________________\n",
            "max_pooling1d_8 (MaxPooling1D)  (None, 101, 128)     0           conv1d_8[0][0]                   \n",
            "__________________________________________________________________________________________________\n",
            "flatten_32 (Flatten)            (None, 41728)        0           lstm_9[0][0]                     \n",
            "__________________________________________________________________________________________________\n",
            "flatten_33 (Flatten)            (None, 12928)        0           max_pooling1d_8[0][0]            \n",
            "__________________________________________________________________________________________________\n",
            "concatenate_9 (Concatenate)     (None, 54656)        0           flatten_32[0][0]                 \n",
            "                                                                 flatten_33[0][0]                 \n",
            "__________________________________________________________________________________________________\n",
            "dense_29 (Dense)                (None, 128)          6996096     concatenate_9[0][0]              \n",
            "__________________________________________________________________________________________________\n",
            "dropout_21 (Dropout)            (None, 128)          0           dense_29[0][0]                   \n",
            "__________________________________________________________________________________________________\n",
            "dense_30 (Dense)                (None, 64)           8256        dropout_21[0][0]                 \n",
            "__________________________________________________________________________________________________\n",
            "dropout_22 (Dropout)            (None, 64)           0           dense_30[0][0]                   \n",
            "__________________________________________________________________________________________________\n",
            "dense_31 (Dense)                (None, 32)           2080        dropout_22[0][0]                 \n",
            "__________________________________________________________________________________________________\n",
            "output_layer (Dense)            (None, 2)            66          dense_31[0][0]                   \n",
            "==================================================================================================\n",
            "Total params: 23,662,762\n",
            "Trainable params: 7,259,362\n",
            "Non-trainable params: 16,403,400\n",
            "__________________________________________________________________________________________________\n"
          ],
          "name": "stdout"
        }
      ]
    },
    {
      "cell_type": "code",
      "metadata": {
        "id": "u5aSouGwSItG",
        "colab_type": "code",
        "outputId": "62ec9a78-7b3b-4c98-a90e-a8c1b6c74fcd",
        "colab": {
          "base_uri": "https://localhost:8080/",
          "height": 35
        }
      },
      "source": [
        "categories_concat_cv.shape"
      ],
      "execution_count": 0,
      "outputs": [
        {
          "output_type": "execute_result",
          "data": {
            "text/plain": [
              "(7648, 101)"
            ]
          },
          "metadata": {
            "tags": []
          },
          "execution_count": 58
        }
      ]
    },
    {
      "cell_type": "code",
      "metadata": {
        "id": "oy9GYuZmQuE_",
        "colab_type": "code",
        "colab": {}
      },
      "source": [
        "categories_concat_train = categories_concat_train.toarray().reshape(68825,101,1)\n",
        "categories_concat_test  = categories_concat_test.toarray().reshape(32775,101,1)\n",
        "categories_concat_cv  = categories_concat_cv.toarray().reshape(7648,101,1)"
      ],
      "execution_count": 0,
      "outputs": []
    },
    {
      "cell_type": "code",
      "metadata": {
        "id": "Di5OKeCoSZjZ",
        "colab_type": "code",
        "outputId": "2cfe2708-ca6d-455b-9f51-f3f610efad4e",
        "colab": {
          "base_uri": "https://localhost:8080/",
          "height": 35
        }
      },
      "source": [
        "categories_concat_train.shape"
      ],
      "execution_count": 0,
      "outputs": [
        {
          "output_type": "execute_result",
          "data": {
            "text/plain": [
              "(68825, 101)"
            ]
          },
          "metadata": {
            "tags": []
          },
          "execution_count": 62
        }
      ]
    },
    {
      "cell_type": "code",
      "metadata": {
        "id": "emypHYpnPK41",
        "colab_type": "code",
        "outputId": "bb276af1-f0e5-4e9b-a41b-1cae4a3550dc",
        "colab": {
          "base_uri": "https://localhost:8080/",
          "height": 575
        }
      },
      "source": [
        "\n",
        "y_true = to_categorical(Y_train.values, num_classes=2)\n",
        "y_test = to_categorical(Y_test.values ,num_classes = 2)\n",
        "history = model_3.fit({\n",
        "            'essay': np.array(padded_docs_train),\n",
        "            'concat': np.array(categories_concat_train)},            \n",
        "             {'output_layer': y_true},\n",
        "             validation_data=({\n",
        "            'essay': np.array(padded_docs_cv),\n",
        "            'concat': np.array(categories_concat_cv)},\n",
        "             {'output_layer': y_val}),\n",
        "             epochs=15, batch_size=500,callbacks=[TensorBoardColabCallback(tbc)])"
      ],
      "execution_count": 0,
      "outputs": [
        {
          "output_type": "stream",
          "text": [
            "Train on 68825 samples, validate on 7648 samples\n",
            "Epoch 1/15\n",
            "68825/68825 [==============================] - 108s 2ms/step - loss: 34.4010 - mean_absolute_error: 0.3585 - acc: 0.7801 - auroc: 0.5143 - val_loss: 0.9993 - val_mean_absolute_error: 0.2989 - val_acc: 0.8584 - val_auroc: 0.6534\n",
            "Epoch 2/15\n",
            "68825/68825 [==============================] - 105s 2ms/step - loss: 0.6456 - mean_absolute_error: 0.2567 - acc: 0.8481 - auroc: 0.6165 - val_loss: 0.5624 - val_mean_absolute_error: 0.2471 - val_acc: 0.8584 - val_auroc: 0.7114\n",
            "Epoch 3/15\n",
            "68825/68825 [==============================] - 105s 2ms/step - loss: 0.5542 - mean_absolute_error: 0.2484 - acc: 0.8481 - auroc: 0.6731 - val_loss: 0.5266 - val_mean_absolute_error: 0.2492 - val_acc: 0.8584 - val_auroc: 0.7296\n",
            "Epoch 4/15\n",
            "68825/68825 [==============================] - 106s 2ms/step - loss: 0.5287 - mean_absolute_error: 0.2452 - acc: 0.8481 - auroc: 0.6940 - val_loss: 0.5240 - val_mean_absolute_error: 0.2861 - val_acc: 0.8584 - val_auroc: 0.7487\n",
            "Epoch 5/15\n",
            "68825/68825 [==============================] - 106s 2ms/step - loss: 0.5093 - mean_absolute_error: 0.2411 - acc: 0.8481 - auroc: 0.7114 - val_loss: 0.4680 - val_mean_absolute_error: 0.2108 - val_acc: 0.8584 - val_auroc: 0.7552\n",
            "Epoch 6/15\n",
            "68825/68825 [==============================] - 106s 2ms/step - loss: 0.4931 - mean_absolute_error: 0.2383 - acc: 0.8481 - auroc: 0.7234 - val_loss: 0.4743 - val_mean_absolute_error: 0.2321 - val_acc: 0.8584 - val_auroc: 0.7569\n",
            "Epoch 7/15\n",
            "68825/68825 [==============================] - 106s 2ms/step - loss: 0.4918 - mean_absolute_error: 0.2368 - acc: 0.8481 - auroc: 0.7273 - val_loss: 0.4799 - val_mean_absolute_error: 0.2367 - val_acc: 0.8584 - val_auroc: 0.7638\n",
            "Epoch 8/15\n",
            "68825/68825 [==============================] - 104s 2ms/step - loss: 0.4915 - mean_absolute_error: 0.2346 - acc: 0.8481 - auroc: 0.7348 - val_loss: 0.4730 - val_mean_absolute_error: 0.2435 - val_acc: 0.8584 - val_auroc: 0.7652\n",
            "Epoch 9/15\n",
            "68825/68825 [==============================] - 105s 2ms/step - loss: 0.4879 - mean_absolute_error: 0.2322 - acc: 0.8481 - auroc: 0.7397 - val_loss: 0.4884 - val_mean_absolute_error: 0.2599 - val_acc: 0.8584 - val_auroc: 0.7710\n",
            "Epoch 10/15\n",
            "68825/68825 [==============================] - 106s 2ms/step - loss: 0.4870 - mean_absolute_error: 0.2316 - acc: 0.8481 - auroc: 0.7421 - val_loss: 0.4790 - val_mean_absolute_error: 0.2404 - val_acc: 0.8584 - val_auroc: 0.7676\n",
            "Epoch 11/15\n",
            "68825/68825 [==============================] - 105s 2ms/step - loss: 0.4877 - mean_absolute_error: 0.2297 - acc: 0.8481 - auroc: 0.7445 - val_loss: 0.4735 - val_mean_absolute_error: 0.2395 - val_acc: 0.8584 - val_auroc: 0.7717\n",
            "Epoch 12/15\n",
            "68825/68825 [==============================] - 106s 2ms/step - loss: 0.4912 - mean_absolute_error: 0.2289 - acc: 0.8481 - auroc: 0.7494 - val_loss: 0.4774 - val_mean_absolute_error: 0.2395 - val_acc: 0.8584 - val_auroc: 0.7715\n",
            "Epoch 13/15\n",
            "68825/68825 [==============================] - 107s 2ms/step - loss: 0.4941 - mean_absolute_error: 0.2275 - acc: 0.8481 - auroc: 0.7517 - val_loss: 0.4819 - val_mean_absolute_error: 0.2298 - val_acc: 0.8584 - val_auroc: 0.7699\n",
            "Epoch 14/15\n",
            "68825/68825 [==============================] - 105s 2ms/step - loss: 0.4944 - mean_absolute_error: 0.2257 - acc: 0.8481 - auroc: 0.7536 - val_loss: 0.4758 - val_mean_absolute_error: 0.2028 - val_acc: 0.8584 - val_auroc: 0.7726\n",
            "Epoch 15/15\n",
            "68825/68825 [==============================] - 105s 2ms/step - loss: 0.4955 - mean_absolute_error: 0.2251 - acc: 0.8481 - auroc: 0.7560 - val_loss: 0.4759 - val_mean_absolute_error: 0.2328 - val_acc: 0.8584 - val_auroc: 0.7747\n"
          ],
          "name": "stdout"
        }
      ]
    },
    {
      "cell_type": "code",
      "metadata": {
        "id": "53OqMH5qzi_H",
        "colab_type": "code",
        "outputId": "a1621bcf-215b-46ad-8bcd-ba9bfbcdb50c",
        "colab": {
          "base_uri": "https://localhost:8080/",
          "height": 35
        }
      },
      "source": [
        "results = model_3.evaluate({\n",
        "            'essay': np.array(padded_docs_test),\n",
        "            'concat': np.array(categories_concat_test)},\n",
        "             {'output_layer': y_test} ,batch_size=128)"
      ],
      "execution_count": 0,
      "outputs": [
        {
          "output_type": "stream",
          "text": [
            "32775/32775 [==============================] - 80s 2ms/step\n"
          ],
          "name": "stdout"
        }
      ]
    },
    {
      "cell_type": "code",
      "metadata": {
        "id": "olykDe8rSF3t",
        "colab_type": "code",
        "outputId": "09c698ae-a251-449d-cd16-4cf8c5d0c55e",
        "colab": {
          "base_uri": "https://localhost:8080/",
          "height": 87
        }
      },
      "source": [
        "print(\"loss : \",results[0] )\n",
        "print(\"Mean absolute Error  : \",results[1] )\n",
        "print(\"Accuracy  : \",results[2] )\n",
        "print(\"Auroc  : \",results[3] )"
      ],
      "execution_count": 0,
      "outputs": [
        {
          "output_type": "stream",
          "text": [
            "loss :  0.49440422133031825\n",
            "Mean absolute Error  :  0.240163068337626\n",
            "Accuracy  :  0.8472311212851017\n",
            "Auroc  :  0.7588295754521126\n"
          ],
          "name": "stdout"
        }
      ]
    },
    {
      "cell_type": "code",
      "metadata": {
        "id": "azRkb8ztQ8XX",
        "colab_type": "code",
        "outputId": "4033f53a-cf25-4e2d-bbc1-712001a0db52",
        "colab": {
          "base_uri": "https://localhost:8080/",
          "height": 295
        }
      },
      "source": [
        "# summarize history for accuracy\n",
        "plt.plot(history.history['loss'])\n",
        "plt.plot(history.history['val_loss'])\n",
        "plt.title('loss')\n",
        "plt.ylabel('loss')\n",
        "plt.xlabel('epoch')\n",
        "plt.legend(['train', 'val'], loc='upper right')\n",
        "plt.show()"
      ],
      "execution_count": 0,
      "outputs": [
        {
          "output_type": "display_data",
          "data": {
            "image/png": "[encoded data removed]",
            "text/plain": [
              "<Figure size 432x288 with 1 Axes>"
            ]
          },
          "metadata": {
            "tags": []
          }
        }
      ]
    },
    {
      "cell_type": "code",
      "metadata": {
        "id": "lOI5SzzFN_49",
        "colab_type": "code",
        "outputId": "a5a59ce1-796d-4280-dce6-e27a16a7b495",
        "colab": {
          "base_uri": "https://localhost:8080/",
          "height": 295
        }
      },
      "source": [
        "plt.plot(history.history['mean_absolute_error'])\n",
        "plt.plot(history.history['val_mean_absolute_error'])\n",
        "plt.title('MAE')\n",
        "plt.ylabel('MAE')\n",
        "plt.xlabel('epoch')\n",
        "plt.legend(['train', 'val'], loc='upper right')\n",
        "plt.show()"
      ],
      "execution_count": 0,
      "outputs": [
        {
          "output_type": "display_data",
          "data": {
            "image/png": "[encoded data removed]",
            "text/plain": [
              "<Figure size 432x288 with 1 Axes>"
            ]
          },
          "metadata": {
            "tags": []
          }
        }
      ]
    },
    {
      "cell_type": "code",
      "metadata": {
        "id": "Bct5q8PwOGlJ",
        "colab_type": "code",
        "outputId": "13666271-f3a4-4b2f-bf10-e4d1836058a9",
        "colab": {
          "base_uri": "https://localhost:8080/",
          "height": 295
        }
      },
      "source": [
        "plt.plot(history.history['auroc'])\n",
        "plt.plot(history.history['val_auroc'])\n",
        "plt.title('auroc')\n",
        "plt.ylabel('auroc')\n",
        "plt.xlabel('epoch')\n",
        "plt.legend(['train', 'val'], loc='upper right')\n",
        "plt.show()"
      ],
      "execution_count": 0,
      "outputs": [
        {
          "output_type": "display_data",
          "data": {
            "image/png": "[encoded data removed]",
            "text/plain": [
              "<Figure size 432x288 with 1 Axes>"
            ]
          },
          "metadata": {
            "tags": []
          }
        }
      ]
    },
    {
      "cell_type": "code",
      "metadata": {
        "id": "Xd3QPTZoRw5A",
        "colab_type": "code",
        "outputId": "df8b8ecd-37f3-4ea4-8d57-a9948ff86fbc",
        "colab": {
          "base_uri": "https://localhost:8080/",
          "height": 139
        }
      },
      "source": [
        "from prettytable import PrettyTable\n",
        "\n",
        "x = PrettyTable()\n",
        "x.field_names = [\"model\", \"Loss\",\"MAE\",\"Accuracy\", \"auroc\"]\n",
        "x.add_row([\"model_1\",0.4034,0.2558,0.8472,0.7399])\n",
        "x.add_row([\"model_2\",0.4652,0.2067, 0.8472, 0.7207])\n",
        "x.add_row([\"model_3\",0.4944,0.2401,0.8472, 0.7588])\n",
        "\n",
        "\n",
        "print(x)"
      ],
      "execution_count": 0,
      "outputs": [
        {
          "output_type": "stream",
          "text": [
            "+---------+--------+--------+----------+--------+\n",
            "|  model  |  Loss  |  MAE   | Accuracy | auroc  |\n",
            "+---------+--------+--------+----------+--------+\n",
            "| model_1 | 0.4034 | 0.2558 |  0.8472  | 0.7399 |\n",
            "| model_2 | 0.4652 | 0.2067 |  0.8472  | 0.7207 |\n",
            "| model_3 | 0.4944 | 0.2401 |  0.8472  | 0.7588 |\n",
            "+---------+--------+--------+----------+--------+\n"
          ],
          "name": "stdout"
        }
      ]
    }
  ]
}